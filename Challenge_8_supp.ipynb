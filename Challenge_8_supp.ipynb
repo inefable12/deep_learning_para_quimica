{
  "nbformat": 4,
  "nbformat_minor": 0,
  "metadata": {
    "colab": {
      "provenance": [],
      "collapsed_sections": [
        "FOi2ylDxSzY3"
      ],
      "gpuType": "T4",
      "authorship_tag": "ABX9TyPpis0VNoex1wTHti7YbKxJ",
      "include_colab_link": true
    },
    "kernelspec": {
      "name": "python3",
      "display_name": "Python 3"
    },
    "language_info": {
      "name": "python"
    },
    "accelerator": "GPU"
  },
  "cells": [
    {
      "cell_type": "markdown",
      "metadata": {
        "id": "view-in-github",
        "colab_type": "text"
      },
      "source": [
        "<a href=\"https://colab.research.google.com/github/inefable12/deep_learning_para_quimica/blob/main/Challenge_8_supp.ipynb\" target=\"_parent\"><img src=\"https://colab.research.google.com/assets/colab-badge.svg\" alt=\"Open In Colab\"/></a>"
      ]
    },
    {
      "cell_type": "markdown",
      "source": [
        "# Challenge 8"
      ],
      "metadata": {
        "id": "BYSn-YpLSR5O"
      }
    },
    {
      "cell_type": "markdown",
      "source": [
        "# 0. Requerimientos"
      ],
      "metadata": {
        "id": "FOi2ylDxSzY3"
      }
    },
    {
      "cell_type": "code",
      "source": [
        "!git clone https://github.com/BLarzalere/AI-De-Novo-Molecule-Design.git"
      ],
      "metadata": {
        "colab": {
          "base_uri": "https://localhost:8080/"
        },
        "id": "63Als2JBU4WL",
        "outputId": "cf11d439-ac26-4b17-e8dc-7d38f0321e9f"
      },
      "execution_count": 3,
      "outputs": [
        {
          "output_type": "stream",
          "name": "stdout",
          "text": [
            "Cloning into 'AI-De-Novo-Molecule-Design'...\n",
            "remote: Enumerating objects: 173, done.\u001b[K\n",
            "remote: Counting objects: 100% (73/73), done.\u001b[K\n",
            "remote: Compressing objects: 100% (39/39), done.\u001b[K\n",
            "remote: Total 173 (delta 39), reused 65 (delta 33), pack-reused 100\u001b[K\n",
            "Receiving objects: 100% (173/173), 30.57 MiB | 27.60 MiB/s, done.\n",
            "Resolving deltas: 100% (67/67), done.\n"
          ]
        }
      ]
    },
    {
      "cell_type": "code",
      "source": [
        "# Install RDKit.\n",
        "%%capture\n",
        "!pip install rdkit"
      ],
      "metadata": {
        "id": "7Ldf-HkNXaZP"
      },
      "execution_count": 1,
      "outputs": []
    },
    {
      "cell_type": "code",
      "source": [
        "#no va\n",
        "from rdkit import Chem\n",
        "from rdkit.Chem import Draw\n",
        "from rdkit.Chem.Draw import IPythonConsole\n",
        "from rdkit.Chem import Descriptors\n",
        "from rdkit.Chem import AllChem\n",
        "from rdkit import DataStructs\n",
        "import numpy as np"
      ],
      "metadata": {
        "id": "YWOFgr5tXeBz"
      },
      "execution_count": 2,
      "outputs": []
    },
    {
      "cell_type": "code",
      "source": [
        "# Importar core libraries\n",
        "import sys\n",
        "import os\n",
        "import pandas as pd\n",
        "import numpy as np\n",
        "import json\n",
        "from sklearn.model_selection import train_test_split\n",
        "sys.path.append('/usr/local/lib/python3.7/site-packages/')"
      ],
      "metadata": {
        "id": "R8t0FwP5TcJy"
      },
      "execution_count": 4,
      "outputs": []
    },
    {
      "cell_type": "code",
      "source": [
        "from rdkit import Chem\n",
        "from rdkit.Chem import Draw, Descriptors"
      ],
      "metadata": {
        "id": "z1LKzo_bVF2w"
      },
      "execution_count": 5,
      "outputs": []
    },
    {
      "cell_type": "code",
      "source": [
        "import random as rn\n",
        "import matplotlib.pyplot as plt\n",
        "%matplotlib inline\n",
        "\n",
        "%tensorflow_version 2.x\n",
        "import tensorflow as tf\n",
        "print(\"TensorFlow version:\", tf.__version__)"
      ],
      "metadata": {
        "colab": {
          "base_uri": "https://localhost:8080/"
        },
        "id": "UttjbxVoVDIT",
        "outputId": "0bf8b153-55b9-454c-b8f0-1b5aa71ce83d"
      },
      "execution_count": 6,
      "outputs": [
        {
          "output_type": "stream",
          "name": "stdout",
          "text": [
            "Colab only includes TensorFlow 2.x; %tensorflow_version has no effect.\n",
            "TensorFlow version: 2.12.0\n"
          ]
        }
      ]
    },
    {
      "cell_type": "code",
      "source": [
        "# Cargar Keras libraries\n",
        "from tensorflow.keras.models import Model, load_model\n",
        "from tensorflow.keras.layers import Input, LSTM, Dense, Dropout, Concatenate\n",
        "from tensorflow.keras.initializers import RandomNormal\n",
        "from tensorflow.keras import regularizers\n",
        "from tensorflow.keras.optimizers import Adam\n",
        "from tensorflow.keras.callbacks import ReduceLROnPlateau, ModelCheckpoint, TensorBoard\n",
        "from tensorflow.keras.utils import Sequence"
      ],
      "metadata": {
        "id": "RRgbdCNYSuCD"
      },
      "execution_count": 7,
      "outputs": []
    },
    {
      "cell_type": "code",
      "source": [
        "# enable GPU processing\n",
        "device_name = tf.test.gpu_device_name()\n",
        "if device_name != '/device:GPU:0':\n",
        "  raise SystemError('GPU device not found')\n",
        "print('Found GPU at: {}'.format(device_name))\n",
        "gpu_info = !nvidia-smi\n",
        "gpu_info = '\\n'.join(gpu_info)\n",
        "if gpu_info.find('failed') >= 0:\n",
        "  print('Select the Runtime → \"Change runtime type\" menu to enable a GPU accelerator, ')\n",
        "  print('and then re-execute this cell.')\n",
        "else:\n",
        "  print(gpu_info)"
      ],
      "metadata": {
        "colab": {
          "base_uri": "https://localhost:8080/"
        },
        "id": "rT878uzlS5AB",
        "outputId": "aa98c183-f430-44b7-e0b2-fc0dd0f40f44"
      },
      "execution_count": 8,
      "outputs": [
        {
          "output_type": "stream",
          "name": "stdout",
          "text": [
            "Found GPU at: /device:GPU:0\n",
            "Fri Jun 16 18:03:00 2023       \n",
            "+-----------------------------------------------------------------------------+\n",
            "| NVIDIA-SMI 525.85.12    Driver Version: 525.85.12    CUDA Version: 12.0     |\n",
            "|-------------------------------+----------------------+----------------------+\n",
            "| GPU  Name        Persistence-M| Bus-Id        Disp.A | Volatile Uncorr. ECC |\n",
            "| Fan  Temp  Perf  Pwr:Usage/Cap|         Memory-Usage | GPU-Util  Compute M. |\n",
            "|                               |                      |               MIG M. |\n",
            "|===============================+======================+======================|\n",
            "|   0  Tesla T4            Off  | 00000000:00:04.0 Off |                    0 |\n",
            "| N/A   40C    P0    27W /  70W |    387MiB / 15360MiB |      0%      Default |\n",
            "|                               |                      |                  N/A |\n",
            "+-------------------------------+----------------------+----------------------+\n",
            "                                                                               \n",
            "+-----------------------------------------------------------------------------+\n",
            "| Processes:                                                                  |\n",
            "|  GPU   GI   CI        PID   Type   Process name                  GPU Memory |\n",
            "|        ID   ID                                                   Usage      |\n",
            "|=============================================================================|\n",
            "+-----------------------------------------------------------------------------+\n"
          ]
        }
      ]
    },
    {
      "cell_type": "markdown",
      "source": [
        "# 1. LSTM"
      ],
      "metadata": {
        "id": "1fmM7un6S6c_"
      }
    },
    {
      "cell_type": "code",
      "source": [
        "# Crear las funciones para el cargado de datos\n",
        "def load_data(data):\n",
        "    with open(data, 'r') as f:\n",
        "        smiles = [r.rstrip() for r in f]\n",
        "    return np.array(smiles)\n",
        "\n",
        "def load_dictionaries(input_dict):\n",
        "    with open(input_dict, 'r') as fp:\n",
        "        new_dict = json.load(fp)\n",
        "    return new_dict"
      ],
      "metadata": {
        "id": "3Nf4BwhcS6AI"
      },
      "execution_count": 9,
      "outputs": []
    },
    {
      "cell_type": "code",
      "source": [
        "!ls"
      ],
      "metadata": {
        "colab": {
          "base_uri": "https://localhost:8080/"
        },
        "id": "QcZzJIu6YVHa",
        "outputId": "6cebd529-929e-4896-cc0f-aa3c908b8423"
      },
      "execution_count": 10,
      "outputs": [
        {
          "output_type": "stream",
          "name": "stdout",
          "text": [
            "AI-De-Novo-Molecule-Design  sample_data\n"
          ]
        }
      ]
    },
    {
      "cell_type": "code",
      "source": [
        "# Cargar el dataset y separar los datos de train/test\n",
        "smifile = '/content/AI-De-Novo-Molecule-Design/Data/smiles_cleaned.smi'\n",
        "data = load_data(smifile)\n",
        "seed = 777\n",
        "full_train, test = train_test_split(data, test_size=0.2, random_state=seed)\n",
        "print(\"Training smiles shape:\", full_train.shape)\n",
        "print(\"Test smiles shape:\", test.shape)\n",
        "print(\"Sample training smile: \\n\", full_train[2])"
      ],
      "metadata": {
        "colab": {
          "base_uri": "https://localhost:8080/"
        },
        "id": "XjYMY_XzYKX9",
        "outputId": "1dcfc754-656b-4b64-ddbb-8c98eed56a8f"
      },
      "execution_count": 13,
      "outputs": [
        {
          "output_type": "stream",
          "name": "stdout",
          "text": [
            "Training smiles shape: (351278,)\n",
            "Test smiles shape: (87820,)\n",
            "Sample training smile: \n",
            " Cc1cc(Oc2ccc(-c3nc4cc(C(N)=O)ccc4[nH]3)cc2)ccc1F\n"
          ]
        }
      ]
    },
    {
      "cell_type": "code",
      "source": [
        "data.shape"
      ],
      "metadata": {
        "colab": {
          "base_uri": "https://localhost:8080/"
        },
        "id": "O_ReLTXxYclh",
        "outputId": "a670b319-4725-4b61-d28d-cd940ec5fa68"
      },
      "execution_count": 15,
      "outputs": [
        {
          "output_type": "execute_result",
          "data": {
            "text/plain": [
              "(439098,)"
            ]
          },
          "metadata": {},
          "execution_count": 15
        }
      ]
    },
    {
      "cell_type": "code",
      "source": [
        "# create our validation dataset\n",
        "val_split = 0.10\n",
        "train, val_set = train_test_split(full_train, test_size=val_split, random_state=seed)\n",
        "print(\"Training dataset shape:\", train.shape)\n",
        "print(\"Validation dataset shape:\", val_set.shape)"
      ],
      "metadata": {
        "colab": {
          "base_uri": "https://localhost:8080/"
        },
        "id": "Gv2nfT6KZZM5",
        "outputId": "f1640475-9fd9-431a-c5d3-d0c4e93e2070"
      },
      "execution_count": 16,
      "outputs": [
        {
          "output_type": "stream",
          "name": "stdout",
          "text": [
            "Training dataset shape: (316150,)\n",
            "Validation dataset shape: (35128,)\n"
          ]
        }
      ]
    },
    {
      "cell_type": "code",
      "source": [
        "# load the Python dictionaries that map characters-to-integers and intergers-to-characters\n",
        "d1 = '/content/AI-De-Novo-Molecule-Design/Data/char_to_int.json'\n",
        "d2 = '/content/AI-De-Novo-Molecule-Design/Data/int_to_char.json'\n",
        "char_to_int = load_dictionaries(d1)\n",
        "int_to_char = load_dictionaries(d2)\n",
        "n_vocab = len(char_to_int)\n",
        "print(\"Character set vocabulary length:\", n_vocab)\n",
        "print(\"Dictionary mapping characters-to-integers:\\n\", char_to_int)\n",
        "print(\"Dictionary mapping integers-to-characters:\\n\", int_to_char)"
      ],
      "metadata": {
        "colab": {
          "base_uri": "https://localhost:8080/"
        },
        "id": "V8lYmEJvZls8",
        "outputId": "b9d4e844-f53b-4a5e-de0b-514dd68597a9"
      },
      "execution_count": 17,
      "outputs": [
        {
          "output_type": "stream",
          "name": "stdout",
          "text": [
            "Character set vocabulary length: 45\n",
            "Dictionary mapping characters-to-integers:\n",
            " {'n': 0, '[': 1, '\\\\': 2, 'E': 3, 'H': 4, ')': 5, 'B': 6, '9': 7, '2': 8, ']': 9, '7': 10, '!': 11, 't': 12, 's': 13, 'o': 14, 'c': 15, 'K': 16, '-': 17, '/': 18, 'l': 19, 'A': 20, 'r': 21, '@': 22, 'C': 23, '=': 24, '6': 25, 'N': 26, 'L': 27, 'a': 28, '5': 29, 'S': 30, 'T': 31, '#': 32, '+': 33, 'P': 34, 'i': 35, '(': 36, '8': 37, '1': 38, 'I': 39, 'e': 40, 'O': 41, '3': 42, 'F': 43, '4': 44}\n",
            "Dictionary mapping integers-to-characters:\n",
            " {'0': 'n', '1': '[', '2': '\\\\', '3': 'E', '4': 'H', '5': ')', '6': 'B', '7': '9', '8': '2', '9': ']', '10': '7', '11': '!', '12': 't', '13': 's', '14': 'o', '15': 'c', '16': 'K', '17': '-', '18': '/', '19': 'l', '20': 'A', '21': 'r', '22': '@', '23': 'C', '24': '=', '25': '6', '26': 'N', '27': 'L', '28': 'a', '29': '5', '30': 'S', '31': 'T', '32': '#', '33': '+', '34': 'P', '35': 'i', '36': '(', '37': '8', '38': '1', '39': 'I', '40': 'e', '41': 'O', '42': '3', '43': 'F', '44': '4'}\n"
          ]
        }
      ]
    },
    {
      "cell_type": "code",
      "source": [
        "# create a function to turn the dataset into a supervised problem, add the beginning and ending character markers,\n",
        "# add padding for constant sequence length, and turn the sequence into a sequence of one-hot vectors\n",
        "def vectorize(smiles, embed, n_vocab):\n",
        "    one_hot = np.zeros((smiles.shape[0], embed, n_vocab), dtype=np.int8)\n",
        "    for i, smile in enumerate(smiles):\n",
        "        # encode the start\n",
        "        one_hot[i,0,char_to_int[\"!\"]] = 1\n",
        "        #encode the smiles characters\n",
        "        for j, c in enumerate(smile):\n",
        "            one_hot[i,j+1,char_to_int[c]] = 1\n",
        "        # encode the end of the smiles string\n",
        "        one_hot[i,len(smile)+1:,char_to_int[\"E\"]] = 1\n",
        "    # return two items, one for input and one for output\n",
        "    return one_hot[:,0:-1,:], one_hot[:,1:,:]"
      ],
      "metadata": {
        "id": "-DUIPyiAZlp9"
      },
      "execution_count": 18,
      "outputs": []
    },
    {
      "cell_type": "code",
      "source": [
        "# create our X & y datasets\n",
        "embed = 101\n",
        "X_train, y_train = vectorize(train, embed, n_vocab)\n",
        "X_val, y_val = vectorize(val_set, embed, n_vocab)\n",
        "X_test, y_test = vectorize(test, embed, n_vocab)\n",
        "print(\"Training input shape:\", X_train.shape)\n",
        "print(\"Training output shape:\", y_train.shape)\n",
        "print(\"Validation input shape:\", X_val.shape)\n",
        "print(\"Validation output shape:\", y_val.shape)\n",
        "print(\"Test input shape:\", X_test.shape)\n",
        "print(\"Test output shape:\", y_test.shape)"
      ],
      "metadata": {
        "colab": {
          "base_uri": "https://localhost:8080/"
        },
        "id": "p-ONOv2NZlnX",
        "outputId": "f096d7e4-4d75-4f17-94a5-71eb76988de9"
      },
      "execution_count": 19,
      "outputs": [
        {
          "output_type": "stream",
          "name": "stdout",
          "text": [
            "Training input shape: (316150, 100, 45)\n",
            "Training output shape: (316150, 100, 45)\n",
            "Validation input shape: (35128, 100, 45)\n",
            "Validation output shape: (35128, 100, 45)\n",
            "Test input shape: (87820, 100, 45)\n",
            "Test output shape: (87820, 100, 45)\n"
          ]
        }
      ]
    },
    {
      "cell_type": "code",
      "source": [
        "\"\".join([int_to_char[str(idx)] for idx in np.argmax(X_train[0,:,:], axis=1)])"
      ],
      "metadata": {
        "colab": {
          "base_uri": "https://localhost:8080/",
          "height": 35
        },
        "id": "fCjubM5DZlk0",
        "outputId": "14bfab34-6cef-4b9c-ac5b-77ee4d3bd3cb"
      },
      "execution_count": 20,
      "outputs": [
        {
          "output_type": "execute_result",
          "data": {
            "text/plain": [
              "'!O=c1ccc(OCCCN2CCN(c3csc4ccccc34)CC2)nn1-c1ccc(Cl)c(Cl)c1EEEEEEEEEEEEEEEEEEEEEEEEEEEEEEEEEEEEEEEEEEE'"
            ],
            "application/vnd.google.colaboratory.intrinsic+json": {
              "type": "string"
            }
          },
          "metadata": {},
          "execution_count": 20
        }
      ]
    },
    {
      "cell_type": "code",
      "source": [
        "# define the LSTM Chem model\n",
        "def lstm_model(X, y):\n",
        "    # define the encoder layers\n",
        "    enc_input = Input(shape=(X.shape[1:]))\n",
        "    _, state_h, state_c = LSTM(256, return_state=True)(enc_input)\n",
        "    states = Concatenate(axis=-1)([state_h, state_c])\n",
        "    bottle_neck = Dense(128, activation='relu')(states)\n",
        "\n",
        "    # define the decoder layers\n",
        "    state_h_decoded = Dense(256, activation='relu')(bottle_neck)\n",
        "    state_c_decoded = Dense(256, activation='relu')(bottle_neck)\n",
        "    encoder_states = [state_h_decoded, state_c_decoded]\n",
        "    dec_input = Input(shape=(X.shape[1:]))\n",
        "    dec1 = LSTM(256, return_sequences=True)(dec_input, initial_state=encoder_states)\n",
        "    output = Dense(y.shape[2], activation='softmax')(dec1)\n",
        "\n",
        "    model = Model(inputs=[enc_input, dec_input], outputs=output)\n",
        "    return model"
      ],
      "metadata": {
        "id": "vzK5eZIyZlhq"
      },
      "execution_count": 21,
      "outputs": []
    },
    {
      "cell_type": "code",
      "metadata": {
        "colab": {
          "base_uri": "https://localhost:8080/"
        },
        "id": "YZ7240G_S2WS",
        "outputId": "4cffb940-054d-471c-a1a8-b9b04cf82ec3"
      },
      "source": [
        "# instantiate our neural network model\n",
        "model = lstm_model(X_train, y_train)\n",
        "model.summary()"
      ],
      "execution_count": 22,
      "outputs": [
        {
          "output_type": "stream",
          "name": "stdout",
          "text": [
            "Model: \"model\"\n",
            "__________________________________________________________________________________________________\n",
            " Layer (type)                   Output Shape         Param #     Connected to                     \n",
            "==================================================================================================\n",
            " input_1 (InputLayer)           [(None, 100, 45)]    0           []                               \n",
            "                                                                                                  \n",
            " lstm (LSTM)                    [(None, 256),        309248      ['input_1[0][0]']                \n",
            "                                 (None, 256),                                                     \n",
            "                                 (None, 256)]                                                     \n",
            "                                                                                                  \n",
            " concatenate (Concatenate)      (None, 512)          0           ['lstm[0][1]',                   \n",
            "                                                                  'lstm[0][2]']                   \n",
            "                                                                                                  \n",
            " dense (Dense)                  (None, 128)          65664       ['concatenate[0][0]']            \n",
            "                                                                                                  \n",
            " input_2 (InputLayer)           [(None, 100, 45)]    0           []                               \n",
            "                                                                                                  \n",
            " dense_1 (Dense)                (None, 256)          33024       ['dense[0][0]']                  \n",
            "                                                                                                  \n",
            " dense_2 (Dense)                (None, 256)          33024       ['dense[0][0]']                  \n",
            "                                                                                                  \n",
            " lstm_1 (LSTM)                  (None, 100, 256)     309248      ['input_2[0][0]',                \n",
            "                                                                  'dense_1[0][0]',                \n",
            "                                                                  'dense_2[0][0]']                \n",
            "                                                                                                  \n",
            " dense_3 (Dense)                (None, 100, 45)      11565       ['lstm_1[0][0]']                 \n",
            "                                                                                                  \n",
            "==================================================================================================\n",
            "Total params: 761,773\n",
            "Trainable params: 761,773\n",
            "Non-trainable params: 0\n",
            "__________________________________________________________________________________________________\n"
          ]
        }
      ]
    },
    {
      "cell_type": "code",
      "source": [
        "# compile the model\n",
        "batch_size = 256\n",
        "steps_per_epoch = len(X_train) // batch_size\n",
        "lr_schedule = tf.keras.optimizers.schedules.InverseTimeDecay(0.001, decay_steps=steps_per_epoch*50, decay_rate=1.0, staircase=False)\n",
        "opt = Adam()\n",
        "model.compile(optimizer=opt, loss='categorical_crossentropy', metrics=['acc'])"
      ],
      "metadata": {
        "id": "IzLxmtIQasYD"
      },
      "execution_count": 23,
      "outputs": []
    },
    {
      "cell_type": "code",
      "source": [
        "# compile the model\n",
        "batch_size = 256\n",
        "steps_per_epoch = len(X_train) // batch_size\n",
        "lr_schedule = tf.keras.optimizers.schedules.InverseTimeDecay(0.001, decay_steps=steps_per_epoch*50, decay_rate=1.0, staircase=False)\n",
        "opt = Adam()\n",
        "model.compile(optimizer=opt, loss='categorical_crossentropy', metrics=['acc'])"
      ],
      "metadata": {
        "id": "OCkZMOgCasVK"
      },
      "execution_count": 24,
      "outputs": []
    },
    {
      "cell_type": "code",
      "source": [
        "# define our data sequence generator class\n",
        "class Data_Generator(Sequence):\n",
        "    def __init__(self, input_data, labels, batch_size):\n",
        "        self.input_data, self.labels = input_data, labels\n",
        "        self.batch_size = batch_size\n",
        "\n",
        "    def __len__(self):\n",
        "        return int(np.ceil(len(self.input_data) / float(self.batch_size)))\n",
        "\n",
        "    def __getitem__(self, idx):\n",
        "        x = self.input_data[idx * self.batch_size:(idx + 1) * self.batch_size]\n",
        "        y = self.labels[idx * self.batch_size:(idx + 1) * self.batch_size]\n",
        "\n",
        "        batch_x, batch_y = np.array(x), np.array(y)\n",
        "\n",
        "        return [batch_x, batch_x], batch_y"
      ],
      "metadata": {
        "id": "Z1eCi6xubsf2"
      },
      "execution_count": 29,
      "outputs": []
    },
    {
      "cell_type": "code",
      "source": [
        "# create object instances of our sequence generator\n",
        "training_generator = Data_Generator(X_train, y_train, batch_size)\n",
        "validation_generator = Data_Generator(X_val, y_val, batch_size)"
      ],
      "metadata": {
        "id": "8A_InsbWbf-y"
      },
      "execution_count": 30,
      "outputs": []
    },
    {
      "cell_type": "code",
      "source": [
        "# # create our callbacks\n",
        "file=\"/content/AI-De-Novo-Molecule-Design/Data/LSTM_Chem_weights-{epoch:02d}-{acc:.4f}-{val_loss:.4f}.hdf5\"\n",
        "checkpoint = ModelCheckpoint(file, monitor='val_loss', verbose=1, save_best_only=True, save_weights_only=True, mode='min')\n",
        "rlrp = ReduceLROnPlateau(monitor='val_loss', factor=0.5, patience=10, min_lr=1e-5)\n",
        "tb = TensorBoard(log_dir=\"/drive/My Drive/logs/chem/\", histogram_freq=1, write_graph=True, write_images=True)"
      ],
      "metadata": {
        "id": "LSV60EdJasSG"
      },
      "execution_count": 25,
      "outputs": []
    },
    {
      "cell_type": "code",
      "source": [
        "# fit the model\n",
        "nb_epochs = 20\n",
        "validation_steps = len(X_val) // batch_size\n",
        "history = model.fit(training_generator, steps_per_epoch=steps_per_epoch, epochs=nb_epochs, verbose=1,\n",
        "                              validation_data=validation_generator, validation_steps=validation_steps,\n",
        "                             use_multiprocessing=False, shuffle=True, callbacks=[])"
      ],
      "metadata": {
        "colab": {
          "base_uri": "https://localhost:8080/"
        },
        "id": "FE7k87I7asPV",
        "outputId": "620eeed3-19a6-43ea-faf4-81021ae26825"
      },
      "execution_count": 31,
      "outputs": [
        {
          "output_type": "stream",
          "name": "stdout",
          "text": [
            "Epoch 1/20\n",
            "1234/1234 [==============================] - 73s 50ms/step - loss: 0.7933 - acc: 0.7535 - val_loss: 0.5464 - val_acc: 0.8193\n",
            "Epoch 2/20\n",
            "1234/1234 [==============================] - 62s 51ms/step - loss: 0.4974 - acc: 0.8321 - val_loss: 0.4565 - val_acc: 0.8440\n",
            "Epoch 3/20\n",
            "1234/1234 [==============================] - 61s 49ms/step - loss: 0.4597 - acc: 0.8433 - val_loss: 0.4472 - val_acc: 0.8459\n",
            "Epoch 4/20\n",
            "1234/1234 [==============================] - 62s 50ms/step - loss: 0.4198 - acc: 0.8537 - val_loss: 0.4040 - val_acc: 0.8584\n",
            "Epoch 5/20\n",
            "1234/1234 [==============================] - 64s 52ms/step - loss: 0.3915 - acc: 0.8623 - val_loss: 0.3814 - val_acc: 0.8656\n",
            "Epoch 6/20\n",
            "1234/1234 [==============================] - 61s 50ms/step - loss: 0.3664 - acc: 0.8710 - val_loss: 0.3486 - val_acc: 0.8768\n",
            "Epoch 7/20\n",
            "1234/1234 [==============================] - 64s 52ms/step - loss: 0.3394 - acc: 0.8802 - val_loss: 0.3302 - val_acc: 0.8826\n",
            "Epoch 8/20\n",
            "1234/1234 [==============================] - 65s 53ms/step - loss: 0.3240 - acc: 0.8855 - val_loss: 0.3176 - val_acc: 0.8879\n",
            "Epoch 9/20\n",
            "1234/1234 [==============================] - 63s 51ms/step - loss: 0.3126 - acc: 0.8895 - val_loss: 0.3070 - val_acc: 0.8917\n",
            "Epoch 10/20\n",
            "1234/1234 [==============================] - 63s 51ms/step - loss: 0.3047 - acc: 0.8924 - val_loss: 0.3039 - val_acc: 0.8926\n",
            "Epoch 11/20\n",
            "1234/1234 [==============================] - 65s 53ms/step - loss: 0.2965 - acc: 0.8955 - val_loss: 0.2924 - val_acc: 0.8975\n",
            "Epoch 12/20\n",
            "1234/1234 [==============================] - 63s 51ms/step - loss: 0.2892 - acc: 0.8982 - val_loss: 0.2947 - val_acc: 0.8963\n",
            "Epoch 13/20\n",
            "1234/1234 [==============================] - 65s 53ms/step - loss: 0.2774 - acc: 0.9026 - val_loss: 0.2714 - val_acc: 0.9052\n",
            "Epoch 14/20\n",
            "1234/1234 [==============================] - 64s 52ms/step - loss: 0.2647 - acc: 0.9075 - val_loss: 0.2600 - val_acc: 0.9095\n",
            "Epoch 15/20\n",
            "1234/1234 [==============================] - 64s 52ms/step - loss: 0.2538 - acc: 0.9119 - val_loss: 0.2512 - val_acc: 0.9133\n",
            "Epoch 16/20\n",
            "1234/1234 [==============================] - 66s 53ms/step - loss: 0.2404 - acc: 0.9172 - val_loss: 0.2404 - val_acc: 0.9175\n",
            "Epoch 17/20\n",
            "1234/1234 [==============================] - 64s 52ms/step - loss: 0.2278 - acc: 0.9219 - val_loss: 0.2280 - val_acc: 0.9220\n",
            "Epoch 18/20\n",
            "1234/1234 [==============================] - 63s 51ms/step - loss: 0.2180 - acc: 0.9255 - val_loss: 0.2122 - val_acc: 0.9280\n",
            "Epoch 19/20\n",
            "1234/1234 [==============================] - 64s 52ms/step - loss: 0.2088 - acc: 0.9289 - val_loss: 0.2202 - val_acc: 0.9245\n",
            "Epoch 20/20\n",
            "1234/1234 [==============================] - 64s 52ms/step - loss: 0.2007 - acc: 0.9317 - val_loss: 0.1976 - val_acc: 0.9330\n"
          ]
        }
      ]
    },
    {
      "cell_type": "markdown",
      "source": [
        "# 2. Output"
      ],
      "metadata": {
        "id": "E5Hvd-ozixPv"
      }
    },
    {
      "cell_type": "code",
      "source": [
        "# plot the model loss and accuracy\n",
        "fig, (axis1, axis2) = plt.subplots(nrows=1, ncols=2, figsize=(16,6))\n",
        "\n",
        "# summarize history for accuracy\n",
        "axis1.plot(history.history[\"acc\"], label='Train', linewidth=3)\n",
        "axis1.plot(history.history[\"val_acc\"], label='Validation', linewidth=3)\n",
        "axis1.set_title('Model accuracy', fontsize=16, color=\"white\")\n",
        "axis1.set_ylabel('accuracy')\n",
        "axis1.set_xlabel('epoch')\n",
        "axis1.legend(loc='lower right')\n",
        "\n",
        "# summarize history for loss\n",
        "axis2.plot(history.history[\"loss\"], label='Train', linewidth=3)\n",
        "axis2.plot(history.history[\"val_loss\"], label='Validation', linewidth=3)\n",
        "axis2.set_title('Model loss', fontsize=16, color=\"white\")\n",
        "axis2.set_ylabel('loss')\n",
        "axis2.set_xlabel('epoch')\n",
        "axis2.legend(loc='upper right')\n",
        "plt.show()"
      ],
      "metadata": {
        "colab": {
          "base_uri": "https://localhost:8080/",
          "height": 566
        },
        "id": "RluRmNMMbWv5",
        "outputId": "4bf3b9ab-efa1-4aff-b793-ce6d2c17d7fa"
      },
      "execution_count": 32,
      "outputs": [
        {
          "output_type": "display_data",
          "data": {
            "text/plain": [
              "<Figure size 1600x600 with 2 Axes>"
            ],
            "image/png": "[encoded data removed]"
          },
          "metadata": {}
        }
      ]
    },
    {
      "cell_type": "markdown",
      "source": [
        "Nota: Tener en cuenta que solamente se ejecutaron 20 epochs"
      ],
      "metadata": {
        "id": "_TcWPnGdiKzZ"
      }
    },
    {
      "cell_type": "code",
      "source": [
        "# evaluate our test set\n",
        "score, acc = model.evaluate([X_test, X_test], y_test, batch_size=batch_size, verbose=0)\n",
        "print(f'Test score: {score}')\n",
        "print(f'Test accuracy: {acc}')"
      ],
      "metadata": {
        "colab": {
          "base_uri": "https://localhost:8080/"
        },
        "id": "StEOwnpsfdF8",
        "outputId": "04d1769f-040d-4ac6-af7b-c2df9cc4ba2e"
      },
      "execution_count": 33,
      "outputs": [
        {
          "output_type": "stream",
          "name": "stdout",
          "text": [
            "Test score: 0.19665297865867615\n",
            "Test accuracy: 0.9334158301353455\n"
          ]
        }
      ]
    },
    {
      "cell_type": "code",
      "source": [
        "# save our baseline training model & weights\n",
        "mod_file = 'LSTM_model.h5'\n",
        "model.save(mod_file)\n",
        "print(\"Model Saved\")"
      ],
      "metadata": {
        "colab": {
          "base_uri": "https://localhost:8080/"
        },
        "id": "QqkI6018fgU6",
        "outputId": "254ecfaf-e280-43db-d885-f15bdbce3c22"
      },
      "execution_count": 35,
      "outputs": [
        {
          "output_type": "stream",
          "name": "stdout",
          "text": [
            "Model Saved\n"
          ]
        }
      ]
    },
    {
      "cell_type": "code",
      "source": [
        "!ls"
      ],
      "metadata": {
        "colab": {
          "base_uri": "https://localhost:8080/"
        },
        "id": "SUApf5AGiGBO",
        "outputId": "f6896426-a9ec-4fb5-9862-6c26d75642db"
      },
      "execution_count": 36,
      "outputs": [
        {
          "output_type": "stream",
          "name": "stdout",
          "text": [
            "AI-De-Novo-Molecule-Design  LSTM_model.h5  sample_data\n"
          ]
        }
      ]
    }
  ]
}