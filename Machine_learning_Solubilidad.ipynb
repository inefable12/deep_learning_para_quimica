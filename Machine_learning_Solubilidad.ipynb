{
  "nbformat": 4,
  "nbformat_minor": 0,
  "metadata": {
    "colab": {
      "name": "Machine_learning_Solubilidad.ipynb",
      "provenance": [],
      "collapsed_sections": []
    },
    "kernelspec": {
      "name": "python3",
      "display_name": "Python 3"
    },
    "language_info": {
      "name": "python"
    }
  },
  "cells": [
    {
      "cell_type": "markdown",
      "source": [
        "$$\\large\\textbf{Machine Learning para la predicción de la solubilidad}$$\n",
        "\n",
        "$$\\Large\\textit{Jesus Alvarado-Huayhuaz}$$\n",
        "\n",
        "\n",
        "\n",
        "\n",
        "_Cuaderno basado en https://github.com/dataprofessor_"
      ],
      "metadata": {
        "id": "a6ImU2x_O3pR"
      }
    },
    {
      "cell_type": "markdown",
      "source": [
        "## 1. Instalación"
      ],
      "metadata": {
        "id": "RErGOt9pAIxs"
      }
    },
    {
      "cell_type": "code",
      "execution_count": null,
      "metadata": {
        "id": "wwwWI2rb_fad"
      },
      "outputs": [],
      "source": [
        "! wget https://repo.anaconda.com/miniconda/Miniconda3-py37_4.8.2-Linux-x86_64.sh \n",
        "! chmod +x Miniconda3-py37_4.8.2-Linux-x86_64.sh \n",
        "! bash ./Miniconda3-py37_4.8.2-Linux-x86_64.sh -b -f -p /usr/local \n",
        "! conda install -c rdkit rdkit -y \n",
        "import sys \n",
        "sys.path.append('/usr/local/lib/python3.7/site-packages/')"
      ]
    },
    {
      "cell_type": "code",
      "source": [
        "! wget https://raw.githubusercontent.com/dataprofessor/data/master/delaney.csv"
      ],
      "metadata": {
        "id": "Ooab06Bh_qFa"
      },
      "execution_count": null,
      "outputs": []
    },
    {
      "cell_type": "code",
      "source": [
        "import pandas as pd\n",
        "sol = pd.read_csv('delaney.csv')\n",
        "sol"
      ],
      "metadata": {
        "colab": {
          "base_uri": "https://localhost:8080/",
          "height": 424
        },
        "id": "p13G6FjS_yrK",
        "outputId": "b0aca9fc-4f3c-4594-8ea7-6947896aae76"
      },
      "execution_count": 3,
      "outputs": [
        {
          "output_type": "execute_result",
          "data": {
            "text/plain": [
              "                         Compound ID  measured log(solubility:mol/L)  \\\n",
              "0          1,1,1,2-Tetrachloroethane                          -2.180   \n",
              "1              1,1,1-Trichloroethane                          -2.000   \n",
              "2          1,1,2,2-Tetrachloroethane                          -1.740   \n",
              "3              1,1,2-Trichloroethane                          -1.480   \n",
              "4     1,1,2-Trichlorotrifluoroethane                          -3.040   \n",
              "...                              ...                             ...   \n",
              "1139                     vamidothion                           1.144   \n",
              "1140                     Vinclozolin                          -4.925   \n",
              "1141                        Warfarin                          -3.893   \n",
              "1142                        Xipamide                          -3.790   \n",
              "1143                             XMC                          -2.581   \n",
              "\n",
              "      ESOL predicted log(solubility:mol/L)  \\\n",
              "0                                   -2.794   \n",
              "1                                   -2.232   \n",
              "2                                   -2.549   \n",
              "3                                   -1.961   \n",
              "4                                   -3.077   \n",
              "...                                    ...   \n",
              "1139                                -1.446   \n",
              "1140                                -4.377   \n",
              "1141                                -3.913   \n",
              "1142                                -3.642   \n",
              "1143                                -2.688   \n",
              "\n",
              "                                           SMILES  \n",
              "0                                  ClCC(Cl)(Cl)Cl  \n",
              "1                                    CC(Cl)(Cl)Cl  \n",
              "2                                  ClC(Cl)C(Cl)Cl  \n",
              "3                                      ClCC(Cl)Cl  \n",
              "4                             FC(F)(Cl)C(F)(Cl)Cl  \n",
              "...                                           ...  \n",
              "1139                 CNC(=O)C(C)SCCSP(=O)(OC)(OC)  \n",
              "1140        CC1(OC(=O)N(C1=O)c2cc(Cl)cc(Cl)c2)C=C  \n",
              "1141       CC(=O)CC(c1ccccc1)c3c(O)c2ccccc2oc3=O   \n",
              "1142  Cc1cccc(C)c1NC(=O)c2cc(c(Cl)cc2O)S(N)(=O)=O  \n",
              "1143                       CNC(=O)Oc1cc(C)cc(C)c1  \n",
              "\n",
              "[1144 rows x 4 columns]"
            ],
            "text/html": [
              "\n",
              "  <div id=\"df-4532d87f-289b-4a39-a359-2c63a3ca1917\">\n",
              "    <div class=\"colab-df-container\">\n",
              "      <div>\n",
              "<style scoped>\n",
              "    .dataframe tbody tr th:only-of-type {\n",
              "        vertical-align: middle;\n",
              "    }\n",
              "\n",
              "    .dataframe tbody tr th {\n",
              "        vertical-align: top;\n",
              "    }\n",
              "\n",
              "    .dataframe thead th {\n",
              "        text-align: right;\n",
              "    }\n",
              "</style>\n",
              "<table border=\"1\" class=\"dataframe\">\n",
              "  <thead>\n",
              "    <tr style=\"text-align: right;\">\n",
              "      <th></th>\n",
              "      <th>Compound ID</th>\n",
              "      <th>measured log(solubility:mol/L)</th>\n",
              "      <th>ESOL predicted log(solubility:mol/L)</th>\n",
              "      <th>SMILES</th>\n",
              "    </tr>\n",
              "  </thead>\n",
              "  <tbody>\n",
              "    <tr>\n",
              "      <th>0</th>\n",
              "      <td>1,1,1,2-Tetrachloroethane</td>\n",
              "      <td>-2.180</td>\n",
              "      <td>-2.794</td>\n",
              "      <td>ClCC(Cl)(Cl)Cl</td>\n",
              "    </tr>\n",
              "    <tr>\n",
              "      <th>1</th>\n",
              "      <td>1,1,1-Trichloroethane</td>\n",
              "      <td>-2.000</td>\n",
              "      <td>-2.232</td>\n",
              "      <td>CC(Cl)(Cl)Cl</td>\n",
              "    </tr>\n",
              "    <tr>\n",
              "      <th>2</th>\n",
              "      <td>1,1,2,2-Tetrachloroethane</td>\n",
              "      <td>-1.740</td>\n",
              "      <td>-2.549</td>\n",
              "      <td>ClC(Cl)C(Cl)Cl</td>\n",
              "    </tr>\n",
              "    <tr>\n",
              "      <th>3</th>\n",
              "      <td>1,1,2-Trichloroethane</td>\n",
              "      <td>-1.480</td>\n",
              "      <td>-1.961</td>\n",
              "      <td>ClCC(Cl)Cl</td>\n",
              "    </tr>\n",
              "    <tr>\n",
              "      <th>4</th>\n",
              "      <td>1,1,2-Trichlorotrifluoroethane</td>\n",
              "      <td>-3.040</td>\n",
              "      <td>-3.077</td>\n",
              "      <td>FC(F)(Cl)C(F)(Cl)Cl</td>\n",
              "    </tr>\n",
              "    <tr>\n",
              "      <th>...</th>\n",
              "      <td>...</td>\n",
              "      <td>...</td>\n",
              "      <td>...</td>\n",
              "      <td>...</td>\n",
              "    </tr>\n",
              "    <tr>\n",
              "      <th>1139</th>\n",
              "      <td>vamidothion</td>\n",
              "      <td>1.144</td>\n",
              "      <td>-1.446</td>\n",
              "      <td>CNC(=O)C(C)SCCSP(=O)(OC)(OC)</td>\n",
              "    </tr>\n",
              "    <tr>\n",
              "      <th>1140</th>\n",
              "      <td>Vinclozolin</td>\n",
              "      <td>-4.925</td>\n",
              "      <td>-4.377</td>\n",
              "      <td>CC1(OC(=O)N(C1=O)c2cc(Cl)cc(Cl)c2)C=C</td>\n",
              "    </tr>\n",
              "    <tr>\n",
              "      <th>1141</th>\n",
              "      <td>Warfarin</td>\n",
              "      <td>-3.893</td>\n",
              "      <td>-3.913</td>\n",
              "      <td>CC(=O)CC(c1ccccc1)c3c(O)c2ccccc2oc3=O</td>\n",
              "    </tr>\n",
              "    <tr>\n",
              "      <th>1142</th>\n",
              "      <td>Xipamide</td>\n",
              "      <td>-3.790</td>\n",
              "      <td>-3.642</td>\n",
              "      <td>Cc1cccc(C)c1NC(=O)c2cc(c(Cl)cc2O)S(N)(=O)=O</td>\n",
              "    </tr>\n",
              "    <tr>\n",
              "      <th>1143</th>\n",
              "      <td>XMC</td>\n",
              "      <td>-2.581</td>\n",
              "      <td>-2.688</td>\n",
              "      <td>CNC(=O)Oc1cc(C)cc(C)c1</td>\n",
              "    </tr>\n",
              "  </tbody>\n",
              "</table>\n",
              "<p>1144 rows × 4 columns</p>\n",
              "</div>\n",
              "      <button class=\"colab-df-convert\" onclick=\"convertToInteractive('df-4532d87f-289b-4a39-a359-2c63a3ca1917')\"\n",
              "              title=\"Convert this dataframe to an interactive table.\"\n",
              "              style=\"display:none;\">\n",
              "        \n",
              "  <svg xmlns=\"http://www.w3.org/2000/svg\" height=\"24px\"viewBox=\"0 0 24 24\"\n",
              "       width=\"24px\">\n",
              "    <path d=\"M0 0h24v24H0V0z\" fill=\"none\"/>\n",
              "    <path d=\"M18.56 5.44l.94 2.06.94-2.06 2.06-.94-2.06-.94-.94-2.06-.94 2.06-2.06.94zm-11 1L8.5 8.5l.94-2.06 2.06-.94-2.06-.94L8.5 2.5l-.94 2.06-2.06.94zm10 10l.94 2.06.94-2.06 2.06-.94-2.06-.94-.94-2.06-.94 2.06-2.06.94z\"/><path d=\"M17.41 7.96l-1.37-1.37c-.4-.4-.92-.59-1.43-.59-.52 0-1.04.2-1.43.59L10.3 9.45l-7.72 7.72c-.78.78-.78 2.05 0 2.83L4 21.41c.39.39.9.59 1.41.59.51 0 1.02-.2 1.41-.59l7.78-7.78 2.81-2.81c.8-.78.8-2.07 0-2.86zM5.41 20L4 18.59l7.72-7.72 1.47 1.35L5.41 20z\"/>\n",
              "  </svg>\n",
              "      </button>\n",
              "      \n",
              "  <style>\n",
              "    .colab-df-container {\n",
              "      display:flex;\n",
              "      flex-wrap:wrap;\n",
              "      gap: 12px;\n",
              "    }\n",
              "\n",
              "    .colab-df-convert {\n",
              "      background-color: #E8F0FE;\n",
              "      border: none;\n",
              "      border-radius: 50%;\n",
              "      cursor: pointer;\n",
              "      display: none;\n",
              "      fill: #1967D2;\n",
              "      height: 32px;\n",
              "      padding: 0 0 0 0;\n",
              "      width: 32px;\n",
              "    }\n",
              "\n",
              "    .colab-df-convert:hover {\n",
              "      background-color: #E2EBFA;\n",
              "      box-shadow: 0px 1px 2px rgba(60, 64, 67, 0.3), 0px 1px 3px 1px rgba(60, 64, 67, 0.15);\n",
              "      fill: #174EA6;\n",
              "    }\n",
              "\n",
              "    [theme=dark] .colab-df-convert {\n",
              "      background-color: #3B4455;\n",
              "      fill: #D2E3FC;\n",
              "    }\n",
              "\n",
              "    [theme=dark] .colab-df-convert:hover {\n",
              "      background-color: #434B5C;\n",
              "      box-shadow: 0px 1px 3px 1px rgba(0, 0, 0, 0.15);\n",
              "      filter: drop-shadow(0px 1px 2px rgba(0, 0, 0, 0.3));\n",
              "      fill: #FFFFFF;\n",
              "    }\n",
              "  </style>\n",
              "\n",
              "      <script>\n",
              "        const buttonEl =\n",
              "          document.querySelector('#df-4532d87f-289b-4a39-a359-2c63a3ca1917 button.colab-df-convert');\n",
              "        buttonEl.style.display =\n",
              "          google.colab.kernel.accessAllowed ? 'block' : 'none';\n",
              "\n",
              "        async function convertToInteractive(key) {\n",
              "          const element = document.querySelector('#df-4532d87f-289b-4a39-a359-2c63a3ca1917');\n",
              "          const dataTable =\n",
              "            await google.colab.kernel.invokeFunction('convertToInteractive',\n",
              "                                                     [key], {});\n",
              "          if (!dataTable) return;\n",
              "\n",
              "          const docLinkHtml = 'Like what you see? Visit the ' +\n",
              "            '<a target=\"_blank\" href=https://colab.research.google.com/notebooks/data_table.ipynb>data table notebook</a>'\n",
              "            + ' to learn more about interactive tables.';\n",
              "          element.innerHTML = '';\n",
              "          dataTable['output_type'] = 'display_data';\n",
              "          await google.colab.output.renderOutput(dataTable, element);\n",
              "          const docLink = document.createElement('div');\n",
              "          docLink.innerHTML = docLinkHtml;\n",
              "          element.appendChild(docLink);\n",
              "        }\n",
              "      </script>\n",
              "    </div>\n",
              "  </div>\n",
              "  "
            ]
          },
          "metadata": {},
          "execution_count": 3
        }
      ]
    },
    {
      "cell_type": "code",
      "source": [
        "# Para seleccionar solo una columna, por ejm SMILES\n",
        "sol.SMILES"
      ],
      "metadata": {
        "colab": {
          "base_uri": "https://localhost:8080/"
        },
        "id": "WwG80YdC_yoT",
        "outputId": "a7139959-6e89-409c-8ee1-ed856190604c"
      },
      "execution_count": 4,
      "outputs": [
        {
          "output_type": "execute_result",
          "data": {
            "text/plain": [
              "0                                    ClCC(Cl)(Cl)Cl\n",
              "1                                      CC(Cl)(Cl)Cl\n",
              "2                                    ClC(Cl)C(Cl)Cl\n",
              "3                                        ClCC(Cl)Cl\n",
              "4                               FC(F)(Cl)C(F)(Cl)Cl\n",
              "                           ...                     \n",
              "1139                   CNC(=O)C(C)SCCSP(=O)(OC)(OC)\n",
              "1140          CC1(OC(=O)N(C1=O)c2cc(Cl)cc(Cl)c2)C=C\n",
              "1141         CC(=O)CC(c1ccccc1)c3c(O)c2ccccc2oc3=O \n",
              "1142    Cc1cccc(C)c1NC(=O)c2cc(c(Cl)cc2O)S(N)(=O)=O\n",
              "1143                         CNC(=O)Oc1cc(C)cc(C)c1\n",
              "Name: SMILES, Length: 1144, dtype: object"
            ]
          },
          "metadata": {},
          "execution_count": 4
        }
      ]
    },
    {
      "cell_type": "code",
      "source": [
        "# Para seleccionar solo una instancia de la columna:\n",
        "sol.SMILES[4]"
      ],
      "metadata": {
        "colab": {
          "base_uri": "https://localhost:8080/",
          "height": 35
        },
        "id": "AUTAEpwa_ylT",
        "outputId": "4fff6ed8-7352-48f4-af8d-322896078d28"
      },
      "execution_count": 7,
      "outputs": [
        {
          "output_type": "execute_result",
          "data": {
            "text/plain": [
              "'FC(F)(Cl)C(F)(Cl)Cl'"
            ],
            "application/vnd.google.colaboratory.intrinsic+json": {
              "type": "string"
            }
          },
          "metadata": {},
          "execution_count": 7
        }
      ]
    },
    {
      "cell_type": "code",
      "source": [
        "# descriptor para 1 instancia\n",
        "from rdkit import Chem\n",
        "m = Chem.MolFromSmiles(sol.SMILES[4])\n",
        "m.GetNumAtoms()"
      ],
      "metadata": {
        "colab": {
          "base_uri": "https://localhost:8080/"
        },
        "id": "ry-o4qFrAqBX",
        "outputId": "46438736-ce16-46e3-db61-463753a8c237"
      },
      "execution_count": 18,
      "outputs": [
        {
          "output_type": "execute_result",
          "data": {
            "text/plain": [
              "8"
            ]
          },
          "metadata": {},
          "execution_count": 18
        }
      ]
    },
    {
      "cell_type": "code",
      "source": [
        "# para usar todas \n",
        "from rdkit import Chem\n",
        "mol_list= []\n",
        "for element in sol.SMILES:\n",
        "  mol = Chem.MolFromSmiles(element)\n",
        "  mol_list.append(mol)"
      ],
      "metadata": {
        "id": "jTBu_S-EDwoZ"
      },
      "execution_count": 19,
      "outputs": []
    },
    {
      "cell_type": "markdown",
      "source": [
        "# 2. Calcular descriptores moleculares\n",
        "Ahora representaremos cada una de las moléculas del conjunto de datos mediante un conjunto de descriptores moleculares que se utilizarán para la construcción de modelos."
      ],
      "metadata": {
        "id": "iu2Sr_3FBScD"
      }
    },
    {
      "cell_type": "markdown",
      "source": [
        "1. LogP (coeficiente de partición octanol-agua)\n",
        "2. MW (peso molecular)\n",
        "3. RB (Número de enlaces rotativos)\n",
        "4. AP (proporción aromática = número de átomos aromáticos / número de átomos pesados)\n",
        "\n",
        "Función personalizada denominada generate() para calcular los 3 descriptores LogP, MW y RB"
      ],
      "metadata": {
        "id": "QMAev83jBZEi"
      }
    },
    {
      "cell_type": "code",
      "metadata": {
        "id": "G7FsTREgepYV"
      },
      "source": [
        "import numpy as np\n",
        "from rdkit.Chem import Descriptors\n",
        "# Inspiración: https://codeocean.com/explore/capsules?query=tag:data-curation\n",
        "\n",
        "def generate(smiles, verbose=False):\n",
        "\n",
        "    moldata= []\n",
        "    for elem in smiles:\n",
        "        mol=Chem.MolFromSmiles(elem) \n",
        "        moldata.append(mol)\n",
        "       \n",
        "    baseData= np.arange(1,1)\n",
        "    i=0  \n",
        "    for mol in moldata:        \n",
        "       \n",
        "        desc_MolLogP = Descriptors.MolLogP(mol)\n",
        "        desc_MolWt = Descriptors.MolWt(mol)\n",
        "        desc_NumRotatableBonds = Descriptors.NumRotatableBonds(mol)\n",
        "           \n",
        "        row = np.array([desc_MolLogP,\n",
        "                        desc_MolWt,\n",
        "                        desc_NumRotatableBonds])   \n",
        "    \n",
        "        if(i==0):\n",
        "            baseData=row\n",
        "        else:\n",
        "            baseData=np.vstack([baseData, row])\n",
        "        i=i+1      \n",
        "    \n",
        "    columnNames=[\"MolLogP\",\"MolWt\",\"NumRotatableBonds\"]   \n",
        "    descriptors = pd.DataFrame(data=baseData,columns=columnNames)\n",
        "    \n",
        "    return descriptors"
      ],
      "execution_count": 10,
      "outputs": []
    },
    {
      "cell_type": "code",
      "source": [
        "df = generate(sol.SMILES)\n",
        "df"
      ],
      "metadata": {
        "colab": {
          "base_uri": "https://localhost:8080/",
          "height": 424
        },
        "id": "7RcQ0JiRBfem",
        "outputId": "d029ce0f-6755-4127-f1b4-c1fe1d847072"
      },
      "execution_count": 11,
      "outputs": [
        {
          "output_type": "execute_result",
          "data": {
            "text/plain": [
              "      MolLogP    MolWt  NumRotatableBonds\n",
              "0     2.59540  167.850                0.0\n",
              "1     2.37650  133.405                0.0\n",
              "2     2.59380  167.850                1.0\n",
              "3     2.02890  133.405                1.0\n",
              "4     2.91890  187.375                1.0\n",
              "...       ...      ...                ...\n",
              "1139  1.98820  287.343                8.0\n",
              "1140  3.42130  286.114                2.0\n",
              "1141  3.60960  308.333                4.0\n",
              "1142  2.56214  354.815                3.0\n",
              "1143  2.02164  179.219                1.0\n",
              "\n",
              "[1144 rows x 3 columns]"
            ],
            "text/html": [
              "\n",
              "  <div id=\"df-7ffc44ca-5012-4f87-b239-6601de705860\">\n",
              "    <div class=\"colab-df-container\">\n",
              "      <div>\n",
              "<style scoped>\n",
              "    .dataframe tbody tr th:only-of-type {\n",
              "        vertical-align: middle;\n",
              "    }\n",
              "\n",
              "    .dataframe tbody tr th {\n",
              "        vertical-align: top;\n",
              "    }\n",
              "\n",
              "    .dataframe thead th {\n",
              "        text-align: right;\n",
              "    }\n",
              "</style>\n",
              "<table border=\"1\" class=\"dataframe\">\n",
              "  <thead>\n",
              "    <tr style=\"text-align: right;\">\n",
              "      <th></th>\n",
              "      <th>MolLogP</th>\n",
              "      <th>MolWt</th>\n",
              "      <th>NumRotatableBonds</th>\n",
              "    </tr>\n",
              "  </thead>\n",
              "  <tbody>\n",
              "    <tr>\n",
              "      <th>0</th>\n",
              "      <td>2.59540</td>\n",
              "      <td>167.850</td>\n",
              "      <td>0.0</td>\n",
              "    </tr>\n",
              "    <tr>\n",
              "      <th>1</th>\n",
              "      <td>2.37650</td>\n",
              "      <td>133.405</td>\n",
              "      <td>0.0</td>\n",
              "    </tr>\n",
              "    <tr>\n",
              "      <th>2</th>\n",
              "      <td>2.59380</td>\n",
              "      <td>167.850</td>\n",
              "      <td>1.0</td>\n",
              "    </tr>\n",
              "    <tr>\n",
              "      <th>3</th>\n",
              "      <td>2.02890</td>\n",
              "      <td>133.405</td>\n",
              "      <td>1.0</td>\n",
              "    </tr>\n",
              "    <tr>\n",
              "      <th>4</th>\n",
              "      <td>2.91890</td>\n",
              "      <td>187.375</td>\n",
              "      <td>1.0</td>\n",
              "    </tr>\n",
              "    <tr>\n",
              "      <th>...</th>\n",
              "      <td>...</td>\n",
              "      <td>...</td>\n",
              "      <td>...</td>\n",
              "    </tr>\n",
              "    <tr>\n",
              "      <th>1139</th>\n",
              "      <td>1.98820</td>\n",
              "      <td>287.343</td>\n",
              "      <td>8.0</td>\n",
              "    </tr>\n",
              "    <tr>\n",
              "      <th>1140</th>\n",
              "      <td>3.42130</td>\n",
              "      <td>286.114</td>\n",
              "      <td>2.0</td>\n",
              "    </tr>\n",
              "    <tr>\n",
              "      <th>1141</th>\n",
              "      <td>3.60960</td>\n",
              "      <td>308.333</td>\n",
              "      <td>4.0</td>\n",
              "    </tr>\n",
              "    <tr>\n",
              "      <th>1142</th>\n",
              "      <td>2.56214</td>\n",
              "      <td>354.815</td>\n",
              "      <td>3.0</td>\n",
              "    </tr>\n",
              "    <tr>\n",
              "      <th>1143</th>\n",
              "      <td>2.02164</td>\n",
              "      <td>179.219</td>\n",
              "      <td>1.0</td>\n",
              "    </tr>\n",
              "  </tbody>\n",
              "</table>\n",
              "<p>1144 rows × 3 columns</p>\n",
              "</div>\n",
              "      <button class=\"colab-df-convert\" onclick=\"convertToInteractive('df-7ffc44ca-5012-4f87-b239-6601de705860')\"\n",
              "              title=\"Convert this dataframe to an interactive table.\"\n",
              "              style=\"display:none;\">\n",
              "        \n",
              "  <svg xmlns=\"http://www.w3.org/2000/svg\" height=\"24px\"viewBox=\"0 0 24 24\"\n",
              "       width=\"24px\">\n",
              "    <path d=\"M0 0h24v24H0V0z\" fill=\"none\"/>\n",
              "    <path d=\"M18.56 5.44l.94 2.06.94-2.06 2.06-.94-2.06-.94-.94-2.06-.94 2.06-2.06.94zm-11 1L8.5 8.5l.94-2.06 2.06-.94-2.06-.94L8.5 2.5l-.94 2.06-2.06.94zm10 10l.94 2.06.94-2.06 2.06-.94-2.06-.94-.94-2.06-.94 2.06-2.06.94z\"/><path d=\"M17.41 7.96l-1.37-1.37c-.4-.4-.92-.59-1.43-.59-.52 0-1.04.2-1.43.59L10.3 9.45l-7.72 7.72c-.78.78-.78 2.05 0 2.83L4 21.41c.39.39.9.59 1.41.59.51 0 1.02-.2 1.41-.59l7.78-7.78 2.81-2.81c.8-.78.8-2.07 0-2.86zM5.41 20L4 18.59l7.72-7.72 1.47 1.35L5.41 20z\"/>\n",
              "  </svg>\n",
              "      </button>\n",
              "      \n",
              "  <style>\n",
              "    .colab-df-container {\n",
              "      display:flex;\n",
              "      flex-wrap:wrap;\n",
              "      gap: 12px;\n",
              "    }\n",
              "\n",
              "    .colab-df-convert {\n",
              "      background-color: #E8F0FE;\n",
              "      border: none;\n",
              "      border-radius: 50%;\n",
              "      cursor: pointer;\n",
              "      display: none;\n",
              "      fill: #1967D2;\n",
              "      height: 32px;\n",
              "      padding: 0 0 0 0;\n",
              "      width: 32px;\n",
              "    }\n",
              "\n",
              "    .colab-df-convert:hover {\n",
              "      background-color: #E2EBFA;\n",
              "      box-shadow: 0px 1px 2px rgba(60, 64, 67, 0.3), 0px 1px 3px 1px rgba(60, 64, 67, 0.15);\n",
              "      fill: #174EA6;\n",
              "    }\n",
              "\n",
              "    [theme=dark] .colab-df-convert {\n",
              "      background-color: #3B4455;\n",
              "      fill: #D2E3FC;\n",
              "    }\n",
              "\n",
              "    [theme=dark] .colab-df-convert:hover {\n",
              "      background-color: #434B5C;\n",
              "      box-shadow: 0px 1px 3px 1px rgba(0, 0, 0, 0.15);\n",
              "      filter: drop-shadow(0px 1px 2px rgba(0, 0, 0, 0.3));\n",
              "      fill: #FFFFFF;\n",
              "    }\n",
              "  </style>\n",
              "\n",
              "      <script>\n",
              "        const buttonEl =\n",
              "          document.querySelector('#df-7ffc44ca-5012-4f87-b239-6601de705860 button.colab-df-convert');\n",
              "        buttonEl.style.display =\n",
              "          google.colab.kernel.accessAllowed ? 'block' : 'none';\n",
              "\n",
              "        async function convertToInteractive(key) {\n",
              "          const element = document.querySelector('#df-7ffc44ca-5012-4f87-b239-6601de705860');\n",
              "          const dataTable =\n",
              "            await google.colab.kernel.invokeFunction('convertToInteractive',\n",
              "                                                     [key], {});\n",
              "          if (!dataTable) return;\n",
              "\n",
              "          const docLinkHtml = 'Like what you see? Visit the ' +\n",
              "            '<a target=\"_blank\" href=https://colab.research.google.com/notebooks/data_table.ipynb>data table notebook</a>'\n",
              "            + ' to learn more about interactive tables.';\n",
              "          element.innerHTML = '';\n",
              "          dataTable['output_type'] = 'display_data';\n",
              "          await google.colab.output.renderOutput(dataTable, element);\n",
              "          const docLink = document.createElement('div');\n",
              "          docLink.innerHTML = docLinkHtml;\n",
              "          element.appendChild(docLink);\n",
              "        }\n",
              "      </script>\n",
              "    </div>\n",
              "  </div>\n",
              "  "
            ]
          },
          "metadata": {},
          "execution_count": 11
        }
      ]
    },
    {
      "cell_type": "code",
      "source": [
        "# Sobre el número de átomos aromáticos\n",
        "SMILES = 'COc1cccc2cc(C(=O)NCCCCN3CCN(c4cccc5nccnc54)CC3)oc21'\n",
        "m = Chem.MolFromSmiles(SMILES)\n",
        "aromatic_atoms = [m.GetAtomWithIdx(i).GetIsAromatic() for i in range(m.GetNumAtoms())]\n",
        "aromatic_atoms\n",
        "# False: no es un átomo aromático\n",
        "# True: sí es un átomo aromático"
      ],
      "metadata": {
        "colab": {
          "base_uri": "https://localhost:8080/"
        },
        "id": "uErWlrFgBfZn",
        "outputId": "51bd05e8-366f-4312-932d-218e1285ffcc"
      },
      "execution_count": 13,
      "outputs": [
        {
          "output_type": "execute_result",
          "data": {
            "text/plain": [
              "[False,\n",
              " False,\n",
              " True,\n",
              " True,\n",
              " True,\n",
              " True,\n",
              " True,\n",
              " True,\n",
              " True,\n",
              " False,\n",
              " False,\n",
              " False,\n",
              " False,\n",
              " False,\n",
              " False,\n",
              " False,\n",
              " False,\n",
              " False,\n",
              " False,\n",
              " False,\n",
              " True,\n",
              " True,\n",
              " True,\n",
              " True,\n",
              " True,\n",
              " True,\n",
              " True,\n",
              " True,\n",
              " True,\n",
              " True,\n",
              " False,\n",
              " False,\n",
              " True,\n",
              " True]"
            ]
          },
          "metadata": {},
          "execution_count": 13
        }
      ]
    },
    {
      "cell_type": "code",
      "source": [
        "def AromaticAtoms(m):\n",
        "  aromatic_atoms = [m.GetAtomWithIdx(i).GetIsAromatic() for i in range(m.GetNumAtoms())]\n",
        "  aa_count = []\n",
        "  for i in aromatic_atoms:\n",
        "    if i==True:\n",
        "      aa_count.append(1)\n",
        "  sum_aa_count = sum(aa_count)\n",
        "  return sum_aa_count"
      ],
      "metadata": {
        "id": "ykQDHZ9-BfXB"
      },
      "execution_count": 15,
      "outputs": []
    },
    {
      "cell_type": "code",
      "source": [
        "# Aplicando al ejemplo con \"m\"\n",
        "AromaticAtoms(m)"
      ],
      "metadata": {
        "colab": {
          "base_uri": "https://localhost:8080/"
        },
        "id": "y74wFV5dBfUg",
        "outputId": "5ff47f3d-dbfb-4fea-9d30-3a6cf30c1a07"
      },
      "execution_count": 17,
      "outputs": [
        {
          "output_type": "execute_result",
          "data": {
            "text/plain": [
              "19"
            ]
          },
          "metadata": {},
          "execution_count": 17
        }
      ]
    },
    {
      "cell_type": "code",
      "source": [
        "# Aplicándole a todos, mediante iteración\n",
        "desc_AromaticAtoms = [AromaticAtoms(element) for element in mol_list]\n",
        "desc_AromaticAtoms"
      ],
      "metadata": {
        "id": "JTFoaflZDSyF"
      },
      "execution_count": null,
      "outputs": []
    },
    {
      "cell_type": "code",
      "source": [
        "# Número de átomos pesados\n",
        "SMILES = 'COc1cccc2cc(C(=O)NCCCCN3CCN(c4cccc5nccnc54)CC3)oc21'\n",
        "m = Chem.MolFromSmiles(SMILES)\n",
        "Descriptors.HeavyAtomCount(m)"
      ],
      "metadata": {
        "colab": {
          "base_uri": "https://localhost:8080/"
        },
        "id": "s4cmzdZoDTe8",
        "outputId": "b6b1d415-5065-4f83-8212-1cfe5509bd11"
      },
      "execution_count": 23,
      "outputs": [
        {
          "output_type": "execute_result",
          "data": {
            "text/plain": [
              "34"
            ]
          },
          "metadata": {},
          "execution_count": 23
        }
      ]
    },
    {
      "cell_type": "code",
      "source": [
        "# Aplicándole a todos, mediante iteración\n",
        "desc_HeavyAtomCount = [Descriptors.HeavyAtomCount(element) for element in mol_list]\n",
        "desc_HeavyAtomCount"
      ],
      "metadata": {
        "id": "gU5dyff3DTZ8"
      },
      "execution_count": null,
      "outputs": []
    },
    {
      "cell_type": "code",
      "source": [
        "# Proporción aromática de \"m\"\n",
        "SMILES = 'COc1cccc2cc(C(=O)NCCCCN3CCN(c4cccc5nccnc54)CC3)oc21'\n",
        "m = Chem.MolFromSmiles(SMILES)\n",
        "AromaticAtoms(m)/Descriptors.HeavyAtomCount(m)"
      ],
      "metadata": {
        "colab": {
          "base_uri": "https://localhost:8080/"
        },
        "id": "BW92nUIvDTXR",
        "outputId": "67836e7d-c8ca-4af7-91a2-b0589160b722"
      },
      "execution_count": 25,
      "outputs": [
        {
          "output_type": "execute_result",
          "data": {
            "text/plain": [
              "0.5588235294117647"
            ]
          },
          "metadata": {},
          "execution_count": 25
        }
      ]
    },
    {
      "cell_type": "code",
      "source": [
        "# Aplicándole a todos, mediante iteración\n",
        "desc_AromaticProportion = [AromaticAtoms(element)/Descriptors.HeavyAtomCount(element) for element in mol_list]\n",
        "df_desc_AromaticProportion = pd.DataFrame(desc_AromaticProportion)\n",
        "df_desc_AromaticProportion"
      ],
      "metadata": {
        "colab": {
          "base_uri": "https://localhost:8080/",
          "height": 424
        },
        "id": "kvBwMOH9FEgj",
        "outputId": "f29b3617-5b9c-40fa-ba50-5faff210a3a0"
      },
      "execution_count": 26,
      "outputs": [
        {
          "output_type": "execute_result",
          "data": {
            "text/plain": [
              "             0\n",
              "0     0.000000\n",
              "1     0.000000\n",
              "2     0.000000\n",
              "3     0.000000\n",
              "4     0.000000\n",
              "...        ...\n",
              "1139  0.000000\n",
              "1140  0.333333\n",
              "1141  0.695652\n",
              "1142  0.521739\n",
              "1143  0.461538\n",
              "\n",
              "[1144 rows x 1 columns]"
            ],
            "text/html": [
              "\n",
              "  <div id=\"df-b65beedd-300a-465d-8729-24976e358928\">\n",
              "    <div class=\"colab-df-container\">\n",
              "      <div>\n",
              "<style scoped>\n",
              "    .dataframe tbody tr th:only-of-type {\n",
              "        vertical-align: middle;\n",
              "    }\n",
              "\n",
              "    .dataframe tbody tr th {\n",
              "        vertical-align: top;\n",
              "    }\n",
              "\n",
              "    .dataframe thead th {\n",
              "        text-align: right;\n",
              "    }\n",
              "</style>\n",
              "<table border=\"1\" class=\"dataframe\">\n",
              "  <thead>\n",
              "    <tr style=\"text-align: right;\">\n",
              "      <th></th>\n",
              "      <th>0</th>\n",
              "    </tr>\n",
              "  </thead>\n",
              "  <tbody>\n",
              "    <tr>\n",
              "      <th>0</th>\n",
              "      <td>0.000000</td>\n",
              "    </tr>\n",
              "    <tr>\n",
              "      <th>1</th>\n",
              "      <td>0.000000</td>\n",
              "    </tr>\n",
              "    <tr>\n",
              "      <th>2</th>\n",
              "      <td>0.000000</td>\n",
              "    </tr>\n",
              "    <tr>\n",
              "      <th>3</th>\n",
              "      <td>0.000000</td>\n",
              "    </tr>\n",
              "    <tr>\n",
              "      <th>4</th>\n",
              "      <td>0.000000</td>\n",
              "    </tr>\n",
              "    <tr>\n",
              "      <th>...</th>\n",
              "      <td>...</td>\n",
              "    </tr>\n",
              "    <tr>\n",
              "      <th>1139</th>\n",
              "      <td>0.000000</td>\n",
              "    </tr>\n",
              "    <tr>\n",
              "      <th>1140</th>\n",
              "      <td>0.333333</td>\n",
              "    </tr>\n",
              "    <tr>\n",
              "      <th>1141</th>\n",
              "      <td>0.695652</td>\n",
              "    </tr>\n",
              "    <tr>\n",
              "      <th>1142</th>\n",
              "      <td>0.521739</td>\n",
              "    </tr>\n",
              "    <tr>\n",
              "      <th>1143</th>\n",
              "      <td>0.461538</td>\n",
              "    </tr>\n",
              "  </tbody>\n",
              "</table>\n",
              "<p>1144 rows × 1 columns</p>\n",
              "</div>\n",
              "      <button class=\"colab-df-convert\" onclick=\"convertToInteractive('df-b65beedd-300a-465d-8729-24976e358928')\"\n",
              "              title=\"Convert this dataframe to an interactive table.\"\n",
              "              style=\"display:none;\">\n",
              "        \n",
              "  <svg xmlns=\"http://www.w3.org/2000/svg\" height=\"24px\"viewBox=\"0 0 24 24\"\n",
              "       width=\"24px\">\n",
              "    <path d=\"M0 0h24v24H0V0z\" fill=\"none\"/>\n",
              "    <path d=\"M18.56 5.44l.94 2.06.94-2.06 2.06-.94-2.06-.94-.94-2.06-.94 2.06-2.06.94zm-11 1L8.5 8.5l.94-2.06 2.06-.94-2.06-.94L8.5 2.5l-.94 2.06-2.06.94zm10 10l.94 2.06.94-2.06 2.06-.94-2.06-.94-.94-2.06-.94 2.06-2.06.94z\"/><path d=\"M17.41 7.96l-1.37-1.37c-.4-.4-.92-.59-1.43-.59-.52 0-1.04.2-1.43.59L10.3 9.45l-7.72 7.72c-.78.78-.78 2.05 0 2.83L4 21.41c.39.39.9.59 1.41.59.51 0 1.02-.2 1.41-.59l7.78-7.78 2.81-2.81c.8-.78.8-2.07 0-2.86zM5.41 20L4 18.59l7.72-7.72 1.47 1.35L5.41 20z\"/>\n",
              "  </svg>\n",
              "      </button>\n",
              "      \n",
              "  <style>\n",
              "    .colab-df-container {\n",
              "      display:flex;\n",
              "      flex-wrap:wrap;\n",
              "      gap: 12px;\n",
              "    }\n",
              "\n",
              "    .colab-df-convert {\n",
              "      background-color: #E8F0FE;\n",
              "      border: none;\n",
              "      border-radius: 50%;\n",
              "      cursor: pointer;\n",
              "      display: none;\n",
              "      fill: #1967D2;\n",
              "      height: 32px;\n",
              "      padding: 0 0 0 0;\n",
              "      width: 32px;\n",
              "    }\n",
              "\n",
              "    .colab-df-convert:hover {\n",
              "      background-color: #E2EBFA;\n",
              "      box-shadow: 0px 1px 2px rgba(60, 64, 67, 0.3), 0px 1px 3px 1px rgba(60, 64, 67, 0.15);\n",
              "      fill: #174EA6;\n",
              "    }\n",
              "\n",
              "    [theme=dark] .colab-df-convert {\n",
              "      background-color: #3B4455;\n",
              "      fill: #D2E3FC;\n",
              "    }\n",
              "\n",
              "    [theme=dark] .colab-df-convert:hover {\n",
              "      background-color: #434B5C;\n",
              "      box-shadow: 0px 1px 3px 1px rgba(0, 0, 0, 0.15);\n",
              "      filter: drop-shadow(0px 1px 2px rgba(0, 0, 0, 0.3));\n",
              "      fill: #FFFFFF;\n",
              "    }\n",
              "  </style>\n",
              "\n",
              "      <script>\n",
              "        const buttonEl =\n",
              "          document.querySelector('#df-b65beedd-300a-465d-8729-24976e358928 button.colab-df-convert');\n",
              "        buttonEl.style.display =\n",
              "          google.colab.kernel.accessAllowed ? 'block' : 'none';\n",
              "\n",
              "        async function convertToInteractive(key) {\n",
              "          const element = document.querySelector('#df-b65beedd-300a-465d-8729-24976e358928');\n",
              "          const dataTable =\n",
              "            await google.colab.kernel.invokeFunction('convertToInteractive',\n",
              "                                                     [key], {});\n",
              "          if (!dataTable) return;\n",
              "\n",
              "          const docLinkHtml = 'Like what you see? Visit the ' +\n",
              "            '<a target=\"_blank\" href=https://colab.research.google.com/notebooks/data_table.ipynb>data table notebook</a>'\n",
              "            + ' to learn more about interactive tables.';\n",
              "          element.innerHTML = '';\n",
              "          dataTable['output_type'] = 'display_data';\n",
              "          await google.colab.output.renderOutput(dataTable, element);\n",
              "          const docLink = document.createElement('div');\n",
              "          docLink.innerHTML = docLinkHtml;\n",
              "          element.appendChild(docLink);\n",
              "        }\n",
              "      </script>\n",
              "    </div>\n",
              "  </div>\n",
              "  "
            ]
          },
          "metadata": {},
          "execution_count": 26
        }
      ]
    },
    {
      "cell_type": "markdown",
      "source": [
        "# 3. Preparación del conjunto de datos: Matriz X"
      ],
      "metadata": {
        "id": "ssPo8AB3FP-a"
      }
    },
    {
      "cell_type": "code",
      "source": [
        "X = pd.concat([df,df_desc_AromaticProportion], axis=1)\n",
        "X"
      ],
      "metadata": {
        "colab": {
          "base_uri": "https://localhost:8080/",
          "height": 424
        },
        "id": "T-k4D_NYFEdu",
        "outputId": "d2f5fa7d-8858-42ea-f1dd-b318754ad15c"
      },
      "execution_count": 27,
      "outputs": [
        {
          "output_type": "execute_result",
          "data": {
            "text/plain": [
              "      MolLogP    MolWt  NumRotatableBonds         0\n",
              "0     2.59540  167.850                0.0  0.000000\n",
              "1     2.37650  133.405                0.0  0.000000\n",
              "2     2.59380  167.850                1.0  0.000000\n",
              "3     2.02890  133.405                1.0  0.000000\n",
              "4     2.91890  187.375                1.0  0.000000\n",
              "...       ...      ...                ...       ...\n",
              "1139  1.98820  287.343                8.0  0.000000\n",
              "1140  3.42130  286.114                2.0  0.333333\n",
              "1141  3.60960  308.333                4.0  0.695652\n",
              "1142  2.56214  354.815                3.0  0.521739\n",
              "1143  2.02164  179.219                1.0  0.461538\n",
              "\n",
              "[1144 rows x 4 columns]"
            ],
            "text/html": [
              "\n",
              "  <div id=\"df-e662503c-2de2-40bf-a0b5-667d0c1e0251\">\n",
              "    <div class=\"colab-df-container\">\n",
              "      <div>\n",
              "<style scoped>\n",
              "    .dataframe tbody tr th:only-of-type {\n",
              "        vertical-align: middle;\n",
              "    }\n",
              "\n",
              "    .dataframe tbody tr th {\n",
              "        vertical-align: top;\n",
              "    }\n",
              "\n",
              "    .dataframe thead th {\n",
              "        text-align: right;\n",
              "    }\n",
              "</style>\n",
              "<table border=\"1\" class=\"dataframe\">\n",
              "  <thead>\n",
              "    <tr style=\"text-align: right;\">\n",
              "      <th></th>\n",
              "      <th>MolLogP</th>\n",
              "      <th>MolWt</th>\n",
              "      <th>NumRotatableBonds</th>\n",
              "      <th>0</th>\n",
              "    </tr>\n",
              "  </thead>\n",
              "  <tbody>\n",
              "    <tr>\n",
              "      <th>0</th>\n",
              "      <td>2.59540</td>\n",
              "      <td>167.850</td>\n",
              "      <td>0.0</td>\n",
              "      <td>0.000000</td>\n",
              "    </tr>\n",
              "    <tr>\n",
              "      <th>1</th>\n",
              "      <td>2.37650</td>\n",
              "      <td>133.405</td>\n",
              "      <td>0.0</td>\n",
              "      <td>0.000000</td>\n",
              "    </tr>\n",
              "    <tr>\n",
              "      <th>2</th>\n",
              "      <td>2.59380</td>\n",
              "      <td>167.850</td>\n",
              "      <td>1.0</td>\n",
              "      <td>0.000000</td>\n",
              "    </tr>\n",
              "    <tr>\n",
              "      <th>3</th>\n",
              "      <td>2.02890</td>\n",
              "      <td>133.405</td>\n",
              "      <td>1.0</td>\n",
              "      <td>0.000000</td>\n",
              "    </tr>\n",
              "    <tr>\n",
              "      <th>4</th>\n",
              "      <td>2.91890</td>\n",
              "      <td>187.375</td>\n",
              "      <td>1.0</td>\n",
              "      <td>0.000000</td>\n",
              "    </tr>\n",
              "    <tr>\n",
              "      <th>...</th>\n",
              "      <td>...</td>\n",
              "      <td>...</td>\n",
              "      <td>...</td>\n",
              "      <td>...</td>\n",
              "    </tr>\n",
              "    <tr>\n",
              "      <th>1139</th>\n",
              "      <td>1.98820</td>\n",
              "      <td>287.343</td>\n",
              "      <td>8.0</td>\n",
              "      <td>0.000000</td>\n",
              "    </tr>\n",
              "    <tr>\n",
              "      <th>1140</th>\n",
              "      <td>3.42130</td>\n",
              "      <td>286.114</td>\n",
              "      <td>2.0</td>\n",
              "      <td>0.333333</td>\n",
              "    </tr>\n",
              "    <tr>\n",
              "      <th>1141</th>\n",
              "      <td>3.60960</td>\n",
              "      <td>308.333</td>\n",
              "      <td>4.0</td>\n",
              "      <td>0.695652</td>\n",
              "    </tr>\n",
              "    <tr>\n",
              "      <th>1142</th>\n",
              "      <td>2.56214</td>\n",
              "      <td>354.815</td>\n",
              "      <td>3.0</td>\n",
              "      <td>0.521739</td>\n",
              "    </tr>\n",
              "    <tr>\n",
              "      <th>1143</th>\n",
              "      <td>2.02164</td>\n",
              "      <td>179.219</td>\n",
              "      <td>1.0</td>\n",
              "      <td>0.461538</td>\n",
              "    </tr>\n",
              "  </tbody>\n",
              "</table>\n",
              "<p>1144 rows × 4 columns</p>\n",
              "</div>\n",
              "      <button class=\"colab-df-convert\" onclick=\"convertToInteractive('df-e662503c-2de2-40bf-a0b5-667d0c1e0251')\"\n",
              "              title=\"Convert this dataframe to an interactive table.\"\n",
              "              style=\"display:none;\">\n",
              "        \n",
              "  <svg xmlns=\"http://www.w3.org/2000/svg\" height=\"24px\"viewBox=\"0 0 24 24\"\n",
              "       width=\"24px\">\n",
              "    <path d=\"M0 0h24v24H0V0z\" fill=\"none\"/>\n",
              "    <path d=\"M18.56 5.44l.94 2.06.94-2.06 2.06-.94-2.06-.94-.94-2.06-.94 2.06-2.06.94zm-11 1L8.5 8.5l.94-2.06 2.06-.94-2.06-.94L8.5 2.5l-.94 2.06-2.06.94zm10 10l.94 2.06.94-2.06 2.06-.94-2.06-.94-.94-2.06-.94 2.06-2.06.94z\"/><path d=\"M17.41 7.96l-1.37-1.37c-.4-.4-.92-.59-1.43-.59-.52 0-1.04.2-1.43.59L10.3 9.45l-7.72 7.72c-.78.78-.78 2.05 0 2.83L4 21.41c.39.39.9.59 1.41.59.51 0 1.02-.2 1.41-.59l7.78-7.78 2.81-2.81c.8-.78.8-2.07 0-2.86zM5.41 20L4 18.59l7.72-7.72 1.47 1.35L5.41 20z\"/>\n",
              "  </svg>\n",
              "      </button>\n",
              "      \n",
              "  <style>\n",
              "    .colab-df-container {\n",
              "      display:flex;\n",
              "      flex-wrap:wrap;\n",
              "      gap: 12px;\n",
              "    }\n",
              "\n",
              "    .colab-df-convert {\n",
              "      background-color: #E8F0FE;\n",
              "      border: none;\n",
              "      border-radius: 50%;\n",
              "      cursor: pointer;\n",
              "      display: none;\n",
              "      fill: #1967D2;\n",
              "      height: 32px;\n",
              "      padding: 0 0 0 0;\n",
              "      width: 32px;\n",
              "    }\n",
              "\n",
              "    .colab-df-convert:hover {\n",
              "      background-color: #E2EBFA;\n",
              "      box-shadow: 0px 1px 2px rgba(60, 64, 67, 0.3), 0px 1px 3px 1px rgba(60, 64, 67, 0.15);\n",
              "      fill: #174EA6;\n",
              "    }\n",
              "\n",
              "    [theme=dark] .colab-df-convert {\n",
              "      background-color: #3B4455;\n",
              "      fill: #D2E3FC;\n",
              "    }\n",
              "\n",
              "    [theme=dark] .colab-df-convert:hover {\n",
              "      background-color: #434B5C;\n",
              "      box-shadow: 0px 1px 3px 1px rgba(0, 0, 0, 0.15);\n",
              "      filter: drop-shadow(0px 1px 2px rgba(0, 0, 0, 0.3));\n",
              "      fill: #FFFFFF;\n",
              "    }\n",
              "  </style>\n",
              "\n",
              "      <script>\n",
              "        const buttonEl =\n",
              "          document.querySelector('#df-e662503c-2de2-40bf-a0b5-667d0c1e0251 button.colab-df-convert');\n",
              "        buttonEl.style.display =\n",
              "          google.colab.kernel.accessAllowed ? 'block' : 'none';\n",
              "\n",
              "        async function convertToInteractive(key) {\n",
              "          const element = document.querySelector('#df-e662503c-2de2-40bf-a0b5-667d0c1e0251');\n",
              "          const dataTable =\n",
              "            await google.colab.kernel.invokeFunction('convertToInteractive',\n",
              "                                                     [key], {});\n",
              "          if (!dataTable) return;\n",
              "\n",
              "          const docLinkHtml = 'Like what you see? Visit the ' +\n",
              "            '<a target=\"_blank\" href=https://colab.research.google.com/notebooks/data_table.ipynb>data table notebook</a>'\n",
              "            + ' to learn more about interactive tables.';\n",
              "          element.innerHTML = '';\n",
              "          dataTable['output_type'] = 'display_data';\n",
              "          await google.colab.output.renderOutput(dataTable, element);\n",
              "          const docLink = document.createElement('div');\n",
              "          docLink.innerHTML = docLinkHtml;\n",
              "          element.appendChild(docLink);\n",
              "        }\n",
              "      </script>\n",
              "    </div>\n",
              "  </div>\n",
              "  "
            ]
          },
          "metadata": {},
          "execution_count": 27
        }
      ]
    },
    {
      "cell_type": "code",
      "source": [
        "# Renombrando las columnas\n",
        "X = X.rename(columns={'MolLogP':'MolLogP', 'MolWt':'MolWt', 'NumRotatableBonds':'NumRotatableBonds', 0:'AromaticProportion'})\n",
        "X.columns"
      ],
      "metadata": {
        "colab": {
          "base_uri": "https://localhost:8080/"
        },
        "id": "wgr1JWXEFEbK",
        "outputId": "27dce485-58cd-4c6d-ba63-3ab749c840d0"
      },
      "execution_count": 28,
      "outputs": [
        {
          "output_type": "execute_result",
          "data": {
            "text/plain": [
              "Index(['MolLogP', 'MolWt', 'NumRotatableBonds', 'AromaticProportion'], dtype='object')"
            ]
          },
          "metadata": {},
          "execution_count": 28
        }
      ]
    },
    {
      "cell_type": "code",
      "source": [
        "X"
      ],
      "metadata": {
        "colab": {
          "base_uri": "https://localhost:8080/",
          "height": 424
        },
        "id": "hpjwirLNFEY5",
        "outputId": "67639a92-1e97-4f38-9e4f-bdf0383d7708"
      },
      "execution_count": 29,
      "outputs": [
        {
          "output_type": "execute_result",
          "data": {
            "text/plain": [
              "      MolLogP    MolWt  NumRotatableBonds  AromaticProportion\n",
              "0     2.59540  167.850                0.0            0.000000\n",
              "1     2.37650  133.405                0.0            0.000000\n",
              "2     2.59380  167.850                1.0            0.000000\n",
              "3     2.02890  133.405                1.0            0.000000\n",
              "4     2.91890  187.375                1.0            0.000000\n",
              "...       ...      ...                ...                 ...\n",
              "1139  1.98820  287.343                8.0            0.000000\n",
              "1140  3.42130  286.114                2.0            0.333333\n",
              "1141  3.60960  308.333                4.0            0.695652\n",
              "1142  2.56214  354.815                3.0            0.521739\n",
              "1143  2.02164  179.219                1.0            0.461538\n",
              "\n",
              "[1144 rows x 4 columns]"
            ],
            "text/html": [
              "\n",
              "  <div id=\"df-fc906488-de5e-4db9-aa03-4a8e62aabc47\">\n",
              "    <div class=\"colab-df-container\">\n",
              "      <div>\n",
              "<style scoped>\n",
              "    .dataframe tbody tr th:only-of-type {\n",
              "        vertical-align: middle;\n",
              "    }\n",
              "\n",
              "    .dataframe tbody tr th {\n",
              "        vertical-align: top;\n",
              "    }\n",
              "\n",
              "    .dataframe thead th {\n",
              "        text-align: right;\n",
              "    }\n",
              "</style>\n",
              "<table border=\"1\" class=\"dataframe\">\n",
              "  <thead>\n",
              "    <tr style=\"text-align: right;\">\n",
              "      <th></th>\n",
              "      <th>MolLogP</th>\n",
              "      <th>MolWt</th>\n",
              "      <th>NumRotatableBonds</th>\n",
              "      <th>AromaticProportion</th>\n",
              "    </tr>\n",
              "  </thead>\n",
              "  <tbody>\n",
              "    <tr>\n",
              "      <th>0</th>\n",
              "      <td>2.59540</td>\n",
              "      <td>167.850</td>\n",
              "      <td>0.0</td>\n",
              "      <td>0.000000</td>\n",
              "    </tr>\n",
              "    <tr>\n",
              "      <th>1</th>\n",
              "      <td>2.37650</td>\n",
              "      <td>133.405</td>\n",
              "      <td>0.0</td>\n",
              "      <td>0.000000</td>\n",
              "    </tr>\n",
              "    <tr>\n",
              "      <th>2</th>\n",
              "      <td>2.59380</td>\n",
              "      <td>167.850</td>\n",
              "      <td>1.0</td>\n",
              "      <td>0.000000</td>\n",
              "    </tr>\n",
              "    <tr>\n",
              "      <th>3</th>\n",
              "      <td>2.02890</td>\n",
              "      <td>133.405</td>\n",
              "      <td>1.0</td>\n",
              "      <td>0.000000</td>\n",
              "    </tr>\n",
              "    <tr>\n",
              "      <th>4</th>\n",
              "      <td>2.91890</td>\n",
              "      <td>187.375</td>\n",
              "      <td>1.0</td>\n",
              "      <td>0.000000</td>\n",
              "    </tr>\n",
              "    <tr>\n",
              "      <th>...</th>\n",
              "      <td>...</td>\n",
              "      <td>...</td>\n",
              "      <td>...</td>\n",
              "      <td>...</td>\n",
              "    </tr>\n",
              "    <tr>\n",
              "      <th>1139</th>\n",
              "      <td>1.98820</td>\n",
              "      <td>287.343</td>\n",
              "      <td>8.0</td>\n",
              "      <td>0.000000</td>\n",
              "    </tr>\n",
              "    <tr>\n",
              "      <th>1140</th>\n",
              "      <td>3.42130</td>\n",
              "      <td>286.114</td>\n",
              "      <td>2.0</td>\n",
              "      <td>0.333333</td>\n",
              "    </tr>\n",
              "    <tr>\n",
              "      <th>1141</th>\n",
              "      <td>3.60960</td>\n",
              "      <td>308.333</td>\n",
              "      <td>4.0</td>\n",
              "      <td>0.695652</td>\n",
              "    </tr>\n",
              "    <tr>\n",
              "      <th>1142</th>\n",
              "      <td>2.56214</td>\n",
              "      <td>354.815</td>\n",
              "      <td>3.0</td>\n",
              "      <td>0.521739</td>\n",
              "    </tr>\n",
              "    <tr>\n",
              "      <th>1143</th>\n",
              "      <td>2.02164</td>\n",
              "      <td>179.219</td>\n",
              "      <td>1.0</td>\n",
              "      <td>0.461538</td>\n",
              "    </tr>\n",
              "  </tbody>\n",
              "</table>\n",
              "<p>1144 rows × 4 columns</p>\n",
              "</div>\n",
              "      <button class=\"colab-df-convert\" onclick=\"convertToInteractive('df-fc906488-de5e-4db9-aa03-4a8e62aabc47')\"\n",
              "              title=\"Convert this dataframe to an interactive table.\"\n",
              "              style=\"display:none;\">\n",
              "        \n",
              "  <svg xmlns=\"http://www.w3.org/2000/svg\" height=\"24px\"viewBox=\"0 0 24 24\"\n",
              "       width=\"24px\">\n",
              "    <path d=\"M0 0h24v24H0V0z\" fill=\"none\"/>\n",
              "    <path d=\"M18.56 5.44l.94 2.06.94-2.06 2.06-.94-2.06-.94-.94-2.06-.94 2.06-2.06.94zm-11 1L8.5 8.5l.94-2.06 2.06-.94-2.06-.94L8.5 2.5l-.94 2.06-2.06.94zm10 10l.94 2.06.94-2.06 2.06-.94-2.06-.94-.94-2.06-.94 2.06-2.06.94z\"/><path d=\"M17.41 7.96l-1.37-1.37c-.4-.4-.92-.59-1.43-.59-.52 0-1.04.2-1.43.59L10.3 9.45l-7.72 7.72c-.78.78-.78 2.05 0 2.83L4 21.41c.39.39.9.59 1.41.59.51 0 1.02-.2 1.41-.59l7.78-7.78 2.81-2.81c.8-.78.8-2.07 0-2.86zM5.41 20L4 18.59l7.72-7.72 1.47 1.35L5.41 20z\"/>\n",
              "  </svg>\n",
              "      </button>\n",
              "      \n",
              "  <style>\n",
              "    .colab-df-container {\n",
              "      display:flex;\n",
              "      flex-wrap:wrap;\n",
              "      gap: 12px;\n",
              "    }\n",
              "\n",
              "    .colab-df-convert {\n",
              "      background-color: #E8F0FE;\n",
              "      border: none;\n",
              "      border-radius: 50%;\n",
              "      cursor: pointer;\n",
              "      display: none;\n",
              "      fill: #1967D2;\n",
              "      height: 32px;\n",
              "      padding: 0 0 0 0;\n",
              "      width: 32px;\n",
              "    }\n",
              "\n",
              "    .colab-df-convert:hover {\n",
              "      background-color: #E2EBFA;\n",
              "      box-shadow: 0px 1px 2px rgba(60, 64, 67, 0.3), 0px 1px 3px 1px rgba(60, 64, 67, 0.15);\n",
              "      fill: #174EA6;\n",
              "    }\n",
              "\n",
              "    [theme=dark] .colab-df-convert {\n",
              "      background-color: #3B4455;\n",
              "      fill: #D2E3FC;\n",
              "    }\n",
              "\n",
              "    [theme=dark] .colab-df-convert:hover {\n",
              "      background-color: #434B5C;\n",
              "      box-shadow: 0px 1px 3px 1px rgba(0, 0, 0, 0.15);\n",
              "      filter: drop-shadow(0px 1px 2px rgba(0, 0, 0, 0.3));\n",
              "      fill: #FFFFFF;\n",
              "    }\n",
              "  </style>\n",
              "\n",
              "      <script>\n",
              "        const buttonEl =\n",
              "          document.querySelector('#df-fc906488-de5e-4db9-aa03-4a8e62aabc47 button.colab-df-convert');\n",
              "        buttonEl.style.display =\n",
              "          google.colab.kernel.accessAllowed ? 'block' : 'none';\n",
              "\n",
              "        async function convertToInteractive(key) {\n",
              "          const element = document.querySelector('#df-fc906488-de5e-4db9-aa03-4a8e62aabc47');\n",
              "          const dataTable =\n",
              "            await google.colab.kernel.invokeFunction('convertToInteractive',\n",
              "                                                     [key], {});\n",
              "          if (!dataTable) return;\n",
              "\n",
              "          const docLinkHtml = 'Like what you see? Visit the ' +\n",
              "            '<a target=\"_blank\" href=https://colab.research.google.com/notebooks/data_table.ipynb>data table notebook</a>'\n",
              "            + ' to learn more about interactive tables.';\n",
              "          element.innerHTML = '';\n",
              "          dataTable['output_type'] = 'display_data';\n",
              "          await google.colab.output.renderOutput(dataTable, element);\n",
              "          const docLink = document.createElement('div');\n",
              "          docLink.innerHTML = docLinkHtml;\n",
              "          element.appendChild(docLink);\n",
              "        }\n",
              "      </script>\n",
              "    </div>\n",
              "  </div>\n",
              "  "
            ]
          },
          "metadata": {},
          "execution_count": 29
        }
      ]
    },
    {
      "cell_type": "markdown",
      "source": [
        "# 4. Preparación del conjunto de datos: Matriz Y"
      ],
      "metadata": {
        "id": "vwi29CiCGBnn"
      }
    },
    {
      "cell_type": "code",
      "source": [
        "sol.head()"
      ],
      "metadata": {
        "colab": {
          "base_uri": "https://localhost:8080/",
          "height": 206
        },
        "id": "aakHR5M4GBCY",
        "outputId": "0bb914c5-2b2c-42c8-a8a1-236526ced392"
      },
      "execution_count": 30,
      "outputs": [
        {
          "output_type": "execute_result",
          "data": {
            "text/plain": [
              "                      Compound ID  measured log(solubility:mol/L)  \\\n",
              "0       1,1,1,2-Tetrachloroethane                           -2.18   \n",
              "1           1,1,1-Trichloroethane                           -2.00   \n",
              "2       1,1,2,2-Tetrachloroethane                           -1.74   \n",
              "3           1,1,2-Trichloroethane                           -1.48   \n",
              "4  1,1,2-Trichlorotrifluoroethane                           -3.04   \n",
              "\n",
              "   ESOL predicted log(solubility:mol/L)               SMILES  \n",
              "0                                -2.794       ClCC(Cl)(Cl)Cl  \n",
              "1                                -2.232         CC(Cl)(Cl)Cl  \n",
              "2                                -2.549       ClC(Cl)C(Cl)Cl  \n",
              "3                                -1.961           ClCC(Cl)Cl  \n",
              "4                                -3.077  FC(F)(Cl)C(F)(Cl)Cl  "
            ],
            "text/html": [
              "\n",
              "  <div id=\"df-bff48bd7-a582-4682-b967-6655cb91fc18\">\n",
              "    <div class=\"colab-df-container\">\n",
              "      <div>\n",
              "<style scoped>\n",
              "    .dataframe tbody tr th:only-of-type {\n",
              "        vertical-align: middle;\n",
              "    }\n",
              "\n",
              "    .dataframe tbody tr th {\n",
              "        vertical-align: top;\n",
              "    }\n",
              "\n",
              "    .dataframe thead th {\n",
              "        text-align: right;\n",
              "    }\n",
              "</style>\n",
              "<table border=\"1\" class=\"dataframe\">\n",
              "  <thead>\n",
              "    <tr style=\"text-align: right;\">\n",
              "      <th></th>\n",
              "      <th>Compound ID</th>\n",
              "      <th>measured log(solubility:mol/L)</th>\n",
              "      <th>ESOL predicted log(solubility:mol/L)</th>\n",
              "      <th>SMILES</th>\n",
              "    </tr>\n",
              "  </thead>\n",
              "  <tbody>\n",
              "    <tr>\n",
              "      <th>0</th>\n",
              "      <td>1,1,1,2-Tetrachloroethane</td>\n",
              "      <td>-2.18</td>\n",
              "      <td>-2.794</td>\n",
              "      <td>ClCC(Cl)(Cl)Cl</td>\n",
              "    </tr>\n",
              "    <tr>\n",
              "      <th>1</th>\n",
              "      <td>1,1,1-Trichloroethane</td>\n",
              "      <td>-2.00</td>\n",
              "      <td>-2.232</td>\n",
              "      <td>CC(Cl)(Cl)Cl</td>\n",
              "    </tr>\n",
              "    <tr>\n",
              "      <th>2</th>\n",
              "      <td>1,1,2,2-Tetrachloroethane</td>\n",
              "      <td>-1.74</td>\n",
              "      <td>-2.549</td>\n",
              "      <td>ClC(Cl)C(Cl)Cl</td>\n",
              "    </tr>\n",
              "    <tr>\n",
              "      <th>3</th>\n",
              "      <td>1,1,2-Trichloroethane</td>\n",
              "      <td>-1.48</td>\n",
              "      <td>-1.961</td>\n",
              "      <td>ClCC(Cl)Cl</td>\n",
              "    </tr>\n",
              "    <tr>\n",
              "      <th>4</th>\n",
              "      <td>1,1,2-Trichlorotrifluoroethane</td>\n",
              "      <td>-3.04</td>\n",
              "      <td>-3.077</td>\n",
              "      <td>FC(F)(Cl)C(F)(Cl)Cl</td>\n",
              "    </tr>\n",
              "  </tbody>\n",
              "</table>\n",
              "</div>\n",
              "      <button class=\"colab-df-convert\" onclick=\"convertToInteractive('df-bff48bd7-a582-4682-b967-6655cb91fc18')\"\n",
              "              title=\"Convert this dataframe to an interactive table.\"\n",
              "              style=\"display:none;\">\n",
              "        \n",
              "  <svg xmlns=\"http://www.w3.org/2000/svg\" height=\"24px\"viewBox=\"0 0 24 24\"\n",
              "       width=\"24px\">\n",
              "    <path d=\"M0 0h24v24H0V0z\" fill=\"none\"/>\n",
              "    <path d=\"M18.56 5.44l.94 2.06.94-2.06 2.06-.94-2.06-.94-.94-2.06-.94 2.06-2.06.94zm-11 1L8.5 8.5l.94-2.06 2.06-.94-2.06-.94L8.5 2.5l-.94 2.06-2.06.94zm10 10l.94 2.06.94-2.06 2.06-.94-2.06-.94-.94-2.06-.94 2.06-2.06.94z\"/><path d=\"M17.41 7.96l-1.37-1.37c-.4-.4-.92-.59-1.43-.59-.52 0-1.04.2-1.43.59L10.3 9.45l-7.72 7.72c-.78.78-.78 2.05 0 2.83L4 21.41c.39.39.9.59 1.41.59.51 0 1.02-.2 1.41-.59l7.78-7.78 2.81-2.81c.8-.78.8-2.07 0-2.86zM5.41 20L4 18.59l7.72-7.72 1.47 1.35L5.41 20z\"/>\n",
              "  </svg>\n",
              "      </button>\n",
              "      \n",
              "  <style>\n",
              "    .colab-df-container {\n",
              "      display:flex;\n",
              "      flex-wrap:wrap;\n",
              "      gap: 12px;\n",
              "    }\n",
              "\n",
              "    .colab-df-convert {\n",
              "      background-color: #E8F0FE;\n",
              "      border: none;\n",
              "      border-radius: 50%;\n",
              "      cursor: pointer;\n",
              "      display: none;\n",
              "      fill: #1967D2;\n",
              "      height: 32px;\n",
              "      padding: 0 0 0 0;\n",
              "      width: 32px;\n",
              "    }\n",
              "\n",
              "    .colab-df-convert:hover {\n",
              "      background-color: #E2EBFA;\n",
              "      box-shadow: 0px 1px 2px rgba(60, 64, 67, 0.3), 0px 1px 3px 1px rgba(60, 64, 67, 0.15);\n",
              "      fill: #174EA6;\n",
              "    }\n",
              "\n",
              "    [theme=dark] .colab-df-convert {\n",
              "      background-color: #3B4455;\n",
              "      fill: #D2E3FC;\n",
              "    }\n",
              "\n",
              "    [theme=dark] .colab-df-convert:hover {\n",
              "      background-color: #434B5C;\n",
              "      box-shadow: 0px 1px 3px 1px rgba(0, 0, 0, 0.15);\n",
              "      filter: drop-shadow(0px 1px 2px rgba(0, 0, 0, 0.3));\n",
              "      fill: #FFFFFF;\n",
              "    }\n",
              "  </style>\n",
              "\n",
              "      <script>\n",
              "        const buttonEl =\n",
              "          document.querySelector('#df-bff48bd7-a582-4682-b967-6655cb91fc18 button.colab-df-convert');\n",
              "        buttonEl.style.display =\n",
              "          google.colab.kernel.accessAllowed ? 'block' : 'none';\n",
              "\n",
              "        async function convertToInteractive(key) {\n",
              "          const element = document.querySelector('#df-bff48bd7-a582-4682-b967-6655cb91fc18');\n",
              "          const dataTable =\n",
              "            await google.colab.kernel.invokeFunction('convertToInteractive',\n",
              "                                                     [key], {});\n",
              "          if (!dataTable) return;\n",
              "\n",
              "          const docLinkHtml = 'Like what you see? Visit the ' +\n",
              "            '<a target=\"_blank\" href=https://colab.research.google.com/notebooks/data_table.ipynb>data table notebook</a>'\n",
              "            + ' to learn more about interactive tables.';\n",
              "          element.innerHTML = '';\n",
              "          dataTable['output_type'] = 'display_data';\n",
              "          await google.colab.output.renderOutput(dataTable, element);\n",
              "          const docLink = document.createElement('div');\n",
              "          docLink.innerHTML = docLinkHtml;\n",
              "          element.appendChild(docLink);\n",
              "        }\n",
              "      </script>\n",
              "    </div>\n",
              "  </div>\n",
              "  "
            ]
          },
          "metadata": {},
          "execution_count": 30
        }
      ]
    },
    {
      "cell_type": "code",
      "source": [
        "Y = sol.iloc[:,1]\n",
        "Y"
      ],
      "metadata": {
        "colab": {
          "base_uri": "https://localhost:8080/"
        },
        "id": "0lkZ5sk-GIel",
        "outputId": "1c6ff925-57e7-4bc6-d9b2-cf879825178b"
      },
      "execution_count": 31,
      "outputs": [
        {
          "output_type": "execute_result",
          "data": {
            "text/plain": [
              "0      -2.180\n",
              "1      -2.000\n",
              "2      -1.740\n",
              "3      -1.480\n",
              "4      -3.040\n",
              "        ...  \n",
              "1139    1.144\n",
              "1140   -4.925\n",
              "1141   -3.893\n",
              "1142   -3.790\n",
              "1143   -2.581\n",
              "Name: measured log(solubility:mol/L), Length: 1144, dtype: float64"
            ]
          },
          "metadata": {},
          "execution_count": 31
        }
      ]
    },
    {
      "cell_type": "markdown",
      "source": [
        "Separando nuestros datos de entrenamiento y prueba"
      ],
      "metadata": {
        "id": "oEAU0R8WGPoh"
      }
    },
    {
      "cell_type": "code",
      "source": [
        "from sklearn.model_selection import train_test_split\n",
        "X_train, X_test, Y_train, Y_test = train_test_split(X, Y, test_size=0.2)"
      ],
      "metadata": {
        "id": "P-Q-SY6XGO-h"
      },
      "execution_count": 32,
      "outputs": []
    },
    {
      "cell_type": "code",
      "source": [
        "X_train"
      ],
      "metadata": {
        "colab": {
          "base_uri": "https://localhost:8080/",
          "height": 424
        },
        "id": "98Qf0wEvGZ62",
        "outputId": "062bea4a-b7b3-4421-847b-834435acbc00"
      },
      "execution_count": 33,
      "outputs": [
        {
          "output_type": "execute_result",
          "data": {
            "text/plain": [
              "      MolLogP    MolWt  NumRotatableBonds  AromaticProportion\n",
              "351   0.42840  162.152                1.0            0.833333\n",
              "1070  2.98410  134.222                0.0            0.600000\n",
              "1043  2.35452  255.277                0.0            0.631579\n",
              "661   1.73970  130.187                4.0            0.000000\n",
              "973   1.30040  139.110                1.0            0.600000\n",
              "...       ...      ...                ...                 ...\n",
              "32    2.61186  120.195                0.0            0.666667\n",
              "142   4.66040  223.102                1.0            0.857143\n",
              "776   3.01850  249.097                2.0            0.400000\n",
              "646   1.85272  209.293                5.0            0.400000\n",
              "285   1.82840   70.135                1.0            0.000000\n",
              "\n",
              "[915 rows x 4 columns]"
            ],
            "text/html": [
              "\n",
              "  <div id=\"df-58e41ec3-317d-4c95-b453-390cf5f33359\">\n",
              "    <div class=\"colab-df-container\">\n",
              "      <div>\n",
              "<style scoped>\n",
              "    .dataframe tbody tr th:only-of-type {\n",
              "        vertical-align: middle;\n",
              "    }\n",
              "\n",
              "    .dataframe tbody tr th {\n",
              "        vertical-align: top;\n",
              "    }\n",
              "\n",
              "    .dataframe thead th {\n",
              "        text-align: right;\n",
              "    }\n",
              "</style>\n",
              "<table border=\"1\" class=\"dataframe\">\n",
              "  <thead>\n",
              "    <tr style=\"text-align: right;\">\n",
              "      <th></th>\n",
              "      <th>MolLogP</th>\n",
              "      <th>MolWt</th>\n",
              "      <th>NumRotatableBonds</th>\n",
              "      <th>AromaticProportion</th>\n",
              "    </tr>\n",
              "  </thead>\n",
              "  <tbody>\n",
              "    <tr>\n",
              "      <th>351</th>\n",
              "      <td>0.42840</td>\n",
              "      <td>162.152</td>\n",
              "      <td>1.0</td>\n",
              "      <td>0.833333</td>\n",
              "    </tr>\n",
              "    <tr>\n",
              "      <th>1070</th>\n",
              "      <td>2.98410</td>\n",
              "      <td>134.222</td>\n",
              "      <td>0.0</td>\n",
              "      <td>0.600000</td>\n",
              "    </tr>\n",
              "    <tr>\n",
              "      <th>1043</th>\n",
              "      <td>2.35452</td>\n",
              "      <td>255.277</td>\n",
              "      <td>0.0</td>\n",
              "      <td>0.631579</td>\n",
              "    </tr>\n",
              "    <tr>\n",
              "      <th>661</th>\n",
              "      <td>1.73970</td>\n",
              "      <td>130.187</td>\n",
              "      <td>4.0</td>\n",
              "      <td>0.000000</td>\n",
              "    </tr>\n",
              "    <tr>\n",
              "      <th>973</th>\n",
              "      <td>1.30040</td>\n",
              "      <td>139.110</td>\n",
              "      <td>1.0</td>\n",
              "      <td>0.600000</td>\n",
              "    </tr>\n",
              "    <tr>\n",
              "      <th>...</th>\n",
              "      <td>...</td>\n",
              "      <td>...</td>\n",
              "      <td>...</td>\n",
              "      <td>...</td>\n",
              "    </tr>\n",
              "    <tr>\n",
              "      <th>32</th>\n",
              "      <td>2.61186</td>\n",
              "      <td>120.195</td>\n",
              "      <td>0.0</td>\n",
              "      <td>0.666667</td>\n",
              "    </tr>\n",
              "    <tr>\n",
              "      <th>142</th>\n",
              "      <td>4.66040</td>\n",
              "      <td>223.102</td>\n",
              "      <td>1.0</td>\n",
              "      <td>0.857143</td>\n",
              "    </tr>\n",
              "    <tr>\n",
              "      <th>776</th>\n",
              "      <td>3.01850</td>\n",
              "      <td>249.097</td>\n",
              "      <td>2.0</td>\n",
              "      <td>0.400000</td>\n",
              "    </tr>\n",
              "    <tr>\n",
              "      <th>646</th>\n",
              "      <td>1.85272</td>\n",
              "      <td>209.293</td>\n",
              "      <td>5.0</td>\n",
              "      <td>0.400000</td>\n",
              "    </tr>\n",
              "    <tr>\n",
              "      <th>285</th>\n",
              "      <td>1.82840</td>\n",
              "      <td>70.135</td>\n",
              "      <td>1.0</td>\n",
              "      <td>0.000000</td>\n",
              "    </tr>\n",
              "  </tbody>\n",
              "</table>\n",
              "<p>915 rows × 4 columns</p>\n",
              "</div>\n",
              "      <button class=\"colab-df-convert\" onclick=\"convertToInteractive('df-58e41ec3-317d-4c95-b453-390cf5f33359')\"\n",
              "              title=\"Convert this dataframe to an interactive table.\"\n",
              "              style=\"display:none;\">\n",
              "        \n",
              "  <svg xmlns=\"http://www.w3.org/2000/svg\" height=\"24px\"viewBox=\"0 0 24 24\"\n",
              "       width=\"24px\">\n",
              "    <path d=\"M0 0h24v24H0V0z\" fill=\"none\"/>\n",
              "    <path d=\"M18.56 5.44l.94 2.06.94-2.06 2.06-.94-2.06-.94-.94-2.06-.94 2.06-2.06.94zm-11 1L8.5 8.5l.94-2.06 2.06-.94-2.06-.94L8.5 2.5l-.94 2.06-2.06.94zm10 10l.94 2.06.94-2.06 2.06-.94-2.06-.94-.94-2.06-.94 2.06-2.06.94z\"/><path d=\"M17.41 7.96l-1.37-1.37c-.4-.4-.92-.59-1.43-.59-.52 0-1.04.2-1.43.59L10.3 9.45l-7.72 7.72c-.78.78-.78 2.05 0 2.83L4 21.41c.39.39.9.59 1.41.59.51 0 1.02-.2 1.41-.59l7.78-7.78 2.81-2.81c.8-.78.8-2.07 0-2.86zM5.41 20L4 18.59l7.72-7.72 1.47 1.35L5.41 20z\"/>\n",
              "  </svg>\n",
              "      </button>\n",
              "      \n",
              "  <style>\n",
              "    .colab-df-container {\n",
              "      display:flex;\n",
              "      flex-wrap:wrap;\n",
              "      gap: 12px;\n",
              "    }\n",
              "\n",
              "    .colab-df-convert {\n",
              "      background-color: #E8F0FE;\n",
              "      border: none;\n",
              "      border-radius: 50%;\n",
              "      cursor: pointer;\n",
              "      display: none;\n",
              "      fill: #1967D2;\n",
              "      height: 32px;\n",
              "      padding: 0 0 0 0;\n",
              "      width: 32px;\n",
              "    }\n",
              "\n",
              "    .colab-df-convert:hover {\n",
              "      background-color: #E2EBFA;\n",
              "      box-shadow: 0px 1px 2px rgba(60, 64, 67, 0.3), 0px 1px 3px 1px rgba(60, 64, 67, 0.15);\n",
              "      fill: #174EA6;\n",
              "    }\n",
              "\n",
              "    [theme=dark] .colab-df-convert {\n",
              "      background-color: #3B4455;\n",
              "      fill: #D2E3FC;\n",
              "    }\n",
              "\n",
              "    [theme=dark] .colab-df-convert:hover {\n",
              "      background-color: #434B5C;\n",
              "      box-shadow: 0px 1px 3px 1px rgba(0, 0, 0, 0.15);\n",
              "      filter: drop-shadow(0px 1px 2px rgba(0, 0, 0, 0.3));\n",
              "      fill: #FFFFFF;\n",
              "    }\n",
              "  </style>\n",
              "\n",
              "      <script>\n",
              "        const buttonEl =\n",
              "          document.querySelector('#df-58e41ec3-317d-4c95-b453-390cf5f33359 button.colab-df-convert');\n",
              "        buttonEl.style.display =\n",
              "          google.colab.kernel.accessAllowed ? 'block' : 'none';\n",
              "\n",
              "        async function convertToInteractive(key) {\n",
              "          const element = document.querySelector('#df-58e41ec3-317d-4c95-b453-390cf5f33359');\n",
              "          const dataTable =\n",
              "            await google.colab.kernel.invokeFunction('convertToInteractive',\n",
              "                                                     [key], {});\n",
              "          if (!dataTable) return;\n",
              "\n",
              "          const docLinkHtml = 'Like what you see? Visit the ' +\n",
              "            '<a target=\"_blank\" href=https://colab.research.google.com/notebooks/data_table.ipynb>data table notebook</a>'\n",
              "            + ' to learn more about interactive tables.';\n",
              "          element.innerHTML = '';\n",
              "          dataTable['output_type'] = 'display_data';\n",
              "          await google.colab.output.renderOutput(dataTable, element);\n",
              "          const docLink = document.createElement('div');\n",
              "          docLink.innerHTML = docLinkHtml;\n",
              "          element.appendChild(docLink);\n",
              "        }\n",
              "      </script>\n",
              "    </div>\n",
              "  </div>\n",
              "  "
            ]
          },
          "metadata": {},
          "execution_count": 33
        }
      ]
    },
    {
      "cell_type": "code",
      "source": [
        "Y_train"
      ],
      "metadata": {
        "colab": {
          "base_uri": "https://localhost:8080/"
        },
        "id": "t7R0WGp6Ge17",
        "outputId": "be3d4dbc-5246-4eb9-a74e-34e46bcc9a50"
      },
      "execution_count": 34,
      "outputs": [
        {
          "output_type": "execute_result",
          "data": {
            "text/plain": [
              "351    -0.910\n",
              "1070   -3.660\n",
              "1043   -3.043\n",
              "661    -1.750\n",
              "973    -0.740\n",
              "        ...  \n",
              "32     -3.400\n",
              "142    -5.270\n",
              "776    -3.592\n",
              "646    -3.028\n",
              "285    -2.730\n",
              "Name: measured log(solubility:mol/L), Length: 915, dtype: float64"
            ]
          },
          "metadata": {},
          "execution_count": 34
        }
      ]
    },
    {
      "cell_type": "code",
      "source": [
        "X_test"
      ],
      "metadata": {
        "colab": {
          "base_uri": "https://localhost:8080/",
          "height": 424
        },
        "id": "kgfZRL3oH6RE",
        "outputId": "69f9ae3a-7b56-4d75-e045-3b720861bf2c"
      },
      "execution_count": 38,
      "outputs": [
        {
          "output_type": "execute_result",
          "data": {
            "text/plain": [
              "      MolLogP    MolWt  NumRotatableBonds  AromaticProportion\n",
              "491   2.86982  196.681                2.0            0.461538\n",
              "1106  3.27520  148.249                1.0            0.545455\n",
              "82    2.75270   98.189                4.0            0.000000\n",
              "862   2.11840  121.183                2.0            0.666667\n",
              "15    2.92028  134.222                0.0            0.600000\n",
              "...       ...      ...                ...                 ...\n",
              "728   3.12560  184.242                3.0            0.857143\n",
              "669   1.56890  166.176                2.0            0.500000\n",
              "254   1.16730   88.150                2.0            0.000000\n",
              "818   1.73970  130.187                4.0            0.000000\n",
              "349   5.45462  242.321                0.0            0.947368\n",
              "\n",
              "[229 rows x 4 columns]"
            ],
            "text/html": [
              "\n",
              "  <div id=\"df-daaeff10-7676-44fd-82dc-ee4bb2bf9b12\">\n",
              "    <div class=\"colab-df-container\">\n",
              "      <div>\n",
              "<style scoped>\n",
              "    .dataframe tbody tr th:only-of-type {\n",
              "        vertical-align: middle;\n",
              "    }\n",
              "\n",
              "    .dataframe tbody tr th {\n",
              "        vertical-align: top;\n",
              "    }\n",
              "\n",
              "    .dataframe thead th {\n",
              "        text-align: right;\n",
              "    }\n",
              "</style>\n",
              "<table border=\"1\" class=\"dataframe\">\n",
              "  <thead>\n",
              "    <tr style=\"text-align: right;\">\n",
              "      <th></th>\n",
              "      <th>MolLogP</th>\n",
              "      <th>MolWt</th>\n",
              "      <th>NumRotatableBonds</th>\n",
              "      <th>AromaticProportion</th>\n",
              "    </tr>\n",
              "  </thead>\n",
              "  <tbody>\n",
              "    <tr>\n",
              "      <th>491</th>\n",
              "      <td>2.86982</td>\n",
              "      <td>196.681</td>\n",
              "      <td>2.0</td>\n",
              "      <td>0.461538</td>\n",
              "    </tr>\n",
              "    <tr>\n",
              "      <th>1106</th>\n",
              "      <td>3.27520</td>\n",
              "      <td>148.249</td>\n",
              "      <td>1.0</td>\n",
              "      <td>0.545455</td>\n",
              "    </tr>\n",
              "    <tr>\n",
              "      <th>82</th>\n",
              "      <td>2.75270</td>\n",
              "      <td>98.189</td>\n",
              "      <td>4.0</td>\n",
              "      <td>0.000000</td>\n",
              "    </tr>\n",
              "    <tr>\n",
              "      <th>862</th>\n",
              "      <td>2.11840</td>\n",
              "      <td>121.183</td>\n",
              "      <td>2.0</td>\n",
              "      <td>0.666667</td>\n",
              "    </tr>\n",
              "    <tr>\n",
              "      <th>15</th>\n",
              "      <td>2.92028</td>\n",
              "      <td>134.222</td>\n",
              "      <td>0.0</td>\n",
              "      <td>0.600000</td>\n",
              "    </tr>\n",
              "    <tr>\n",
              "      <th>...</th>\n",
              "      <td>...</td>\n",
              "      <td>...</td>\n",
              "      <td>...</td>\n",
              "      <td>...</td>\n",
              "    </tr>\n",
              "    <tr>\n",
              "      <th>728</th>\n",
              "      <td>3.12560</td>\n",
              "      <td>184.242</td>\n",
              "      <td>3.0</td>\n",
              "      <td>0.857143</td>\n",
              "    </tr>\n",
              "    <tr>\n",
              "      <th>669</th>\n",
              "      <td>1.56890</td>\n",
              "      <td>166.176</td>\n",
              "      <td>2.0</td>\n",
              "      <td>0.500000</td>\n",
              "    </tr>\n",
              "    <tr>\n",
              "      <th>254</th>\n",
              "      <td>1.16730</td>\n",
              "      <td>88.150</td>\n",
              "      <td>2.0</td>\n",
              "      <td>0.000000</td>\n",
              "    </tr>\n",
              "    <tr>\n",
              "      <th>818</th>\n",
              "      <td>1.73970</td>\n",
              "      <td>130.187</td>\n",
              "      <td>4.0</td>\n",
              "      <td>0.000000</td>\n",
              "    </tr>\n",
              "    <tr>\n",
              "      <th>349</th>\n",
              "      <td>5.45462</td>\n",
              "      <td>242.321</td>\n",
              "      <td>0.0</td>\n",
              "      <td>0.947368</td>\n",
              "    </tr>\n",
              "  </tbody>\n",
              "</table>\n",
              "<p>229 rows × 4 columns</p>\n",
              "</div>\n",
              "      <button class=\"colab-df-convert\" onclick=\"convertToInteractive('df-daaeff10-7676-44fd-82dc-ee4bb2bf9b12')\"\n",
              "              title=\"Convert this dataframe to an interactive table.\"\n",
              "              style=\"display:none;\">\n",
              "        \n",
              "  <svg xmlns=\"http://www.w3.org/2000/svg\" height=\"24px\"viewBox=\"0 0 24 24\"\n",
              "       width=\"24px\">\n",
              "    <path d=\"M0 0h24v24H0V0z\" fill=\"none\"/>\n",
              "    <path d=\"M18.56 5.44l.94 2.06.94-2.06 2.06-.94-2.06-.94-.94-2.06-.94 2.06-2.06.94zm-11 1L8.5 8.5l.94-2.06 2.06-.94-2.06-.94L8.5 2.5l-.94 2.06-2.06.94zm10 10l.94 2.06.94-2.06 2.06-.94-2.06-.94-.94-2.06-.94 2.06-2.06.94z\"/><path d=\"M17.41 7.96l-1.37-1.37c-.4-.4-.92-.59-1.43-.59-.52 0-1.04.2-1.43.59L10.3 9.45l-7.72 7.72c-.78.78-.78 2.05 0 2.83L4 21.41c.39.39.9.59 1.41.59.51 0 1.02-.2 1.41-.59l7.78-7.78 2.81-2.81c.8-.78.8-2.07 0-2.86zM5.41 20L4 18.59l7.72-7.72 1.47 1.35L5.41 20z\"/>\n",
              "  </svg>\n",
              "      </button>\n",
              "      \n",
              "  <style>\n",
              "    .colab-df-container {\n",
              "      display:flex;\n",
              "      flex-wrap:wrap;\n",
              "      gap: 12px;\n",
              "    }\n",
              "\n",
              "    .colab-df-convert {\n",
              "      background-color: #E8F0FE;\n",
              "      border: none;\n",
              "      border-radius: 50%;\n",
              "      cursor: pointer;\n",
              "      display: none;\n",
              "      fill: #1967D2;\n",
              "      height: 32px;\n",
              "      padding: 0 0 0 0;\n",
              "      width: 32px;\n",
              "    }\n",
              "\n",
              "    .colab-df-convert:hover {\n",
              "      background-color: #E2EBFA;\n",
              "      box-shadow: 0px 1px 2px rgba(60, 64, 67, 0.3), 0px 1px 3px 1px rgba(60, 64, 67, 0.15);\n",
              "      fill: #174EA6;\n",
              "    }\n",
              "\n",
              "    [theme=dark] .colab-df-convert {\n",
              "      background-color: #3B4455;\n",
              "      fill: #D2E3FC;\n",
              "    }\n",
              "\n",
              "    [theme=dark] .colab-df-convert:hover {\n",
              "      background-color: #434B5C;\n",
              "      box-shadow: 0px 1px 3px 1px rgba(0, 0, 0, 0.15);\n",
              "      filter: drop-shadow(0px 1px 2px rgba(0, 0, 0, 0.3));\n",
              "      fill: #FFFFFF;\n",
              "    }\n",
              "  </style>\n",
              "\n",
              "      <script>\n",
              "        const buttonEl =\n",
              "          document.querySelector('#df-daaeff10-7676-44fd-82dc-ee4bb2bf9b12 button.colab-df-convert');\n",
              "        buttonEl.style.display =\n",
              "          google.colab.kernel.accessAllowed ? 'block' : 'none';\n",
              "\n",
              "        async function convertToInteractive(key) {\n",
              "          const element = document.querySelector('#df-daaeff10-7676-44fd-82dc-ee4bb2bf9b12');\n",
              "          const dataTable =\n",
              "            await google.colab.kernel.invokeFunction('convertToInteractive',\n",
              "                                                     [key], {});\n",
              "          if (!dataTable) return;\n",
              "\n",
              "          const docLinkHtml = 'Like what you see? Visit the ' +\n",
              "            '<a target=\"_blank\" href=https://colab.research.google.com/notebooks/data_table.ipynb>data table notebook</a>'\n",
              "            + ' to learn more about interactive tables.';\n",
              "          element.innerHTML = '';\n",
              "          dataTable['output_type'] = 'display_data';\n",
              "          await google.colab.output.renderOutput(dataTable, element);\n",
              "          const docLink = document.createElement('div');\n",
              "          docLink.innerHTML = docLinkHtml;\n",
              "          element.appendChild(docLink);\n",
              "        }\n",
              "      </script>\n",
              "    </div>\n",
              "  </div>\n",
              "  "
            ]
          },
          "metadata": {},
          "execution_count": 38
        }
      ]
    },
    {
      "cell_type": "code",
      "source": [
        "Y_test"
      ],
      "metadata": {
        "colab": {
          "base_uri": "https://localhost:8080/"
        },
        "id": "H-5pqfRNH9wV",
        "outputId": "7a33cf27-2b39-4e90-ae67-2418baaac740"
      },
      "execution_count": 39,
      "outputs": [
        {
          "output_type": "execute_result",
          "data": {
            "text/plain": [
              "491    -2.86\n",
              "1106   -4.15\n",
              "82     -3.73\n",
              "862    -1.70\n",
              "15     -4.59\n",
              "        ... \n",
              "728    -2.92\n",
              "669    -2.35\n",
              "254    -0.29\n",
              "818    -1.87\n",
              "349    -6.57\n",
              "Name: measured log(solubility:mol/L), Length: 229, dtype: float64"
            ]
          },
          "metadata": {},
          "execution_count": 39
        }
      ]
    },
    {
      "cell_type": "markdown",
      "source": [
        "# 5. Modelo de regresión lineal"
      ],
      "metadata": {
        "id": "_cLLv8p4GkrH"
      }
    },
    {
      "cell_type": "code",
      "source": [
        "# Entrenamiento para RL\n",
        "from sklearn import linear_model\n",
        "from sklearn.metrics import mean_squared_error, r2_score\n",
        "model = linear_model.LinearRegression()\n",
        "model.fit(X_train, Y_train)"
      ],
      "metadata": {
        "colab": {
          "base_uri": "https://localhost:8080/"
        },
        "id": "Uc4vbU8EGkRP",
        "outputId": "bfbeac9b-a795-4504-902b-f9196fdaf15f"
      },
      "execution_count": 35,
      "outputs": [
        {
          "output_type": "execute_result",
          "data": {
            "text/plain": [
              "LinearRegression()"
            ]
          },
          "metadata": {},
          "execution_count": 35
        }
      ]
    },
    {
      "cell_type": "markdown",
      "source": [
        "Predicción y métricas de logS de la data entrenada"
      ],
      "metadata": {
        "id": "s3Y3ICLoG0QI"
      }
    },
    {
      "cell_type": "code",
      "source": [
        "Y_pred_train = model.predict(X_train)\n",
        "print('Coefficients:', model.coef_)\n",
        "print('Intercept:', model.intercept_)\n",
        "print('Mean squared error (MSE): %.2f'\n",
        "      % mean_squared_error(Y_train, Y_pred_train))\n",
        "print('Coefficient of determination (R^2): %.2f'\n",
        "      % r2_score(Y_train, Y_pred_train))"
      ],
      "metadata": {
        "colab": {
          "base_uri": "https://localhost:8080/"
        },
        "id": "ufHjiAygGttb",
        "outputId": "a28126e8-8a75-41fd-9611-e24fd2335fd4"
      },
      "execution_count": 36,
      "outputs": [
        {
          "output_type": "stream",
          "name": "stdout",
          "text": [
            "Coefficients: [-0.74762301 -0.0064198   0.00474454 -0.39873098]\n",
            "Intercept: 0.21869161604102283\n",
            "Mean squared error (MSE): 1.03\n",
            "Coefficient of determination (R^2): 0.77\n"
          ]
        }
      ]
    },
    {
      "cell_type": "markdown",
      "source": [
        "Data de Test"
      ],
      "metadata": {
        "id": "DMfWZAxZHzR4"
      }
    },
    {
      "cell_type": "code",
      "source": [
        "Y_pred_test = model.predict(X_test)\n",
        "print('Coefficients:', model.coef_)\n",
        "print('Intercept:', model.intercept_)\n",
        "print('Mean squared error (MSE): %.2f'\n",
        "      % mean_squared_error(Y_test, Y_pred_test))\n",
        "print('Coefficient of determination (R^2): %.2f'\n",
        "      % r2_score(Y_test, Y_pred_test))"
      ],
      "metadata": {
        "colab": {
          "base_uri": "https://localhost:8080/"
        },
        "id": "d9x-pIrvHyeT",
        "outputId": "590c2ec5-8e76-4e23-af7e-bf8f9c85dee6"
      },
      "execution_count": 40,
      "outputs": [
        {
          "output_type": "stream",
          "name": "stdout",
          "text": [
            "Coefficients: [-0.74762301 -0.0064198   0.00474454 -0.39873098]\n",
            "Intercept: 0.21869161604102283\n",
            "Mean squared error (MSE): 0.91\n",
            "Coefficient of determination (R^2): 0.79\n"
          ]
        }
      ]
    },
    {
      "cell_type": "markdown",
      "source": [
        "# ECUACIONES"
      ],
      "metadata": {
        "id": "Sf-WU_nGMLaf"
      }
    },
    {
      "cell_type": "code",
      "source": [
        "from sklearn import linear_model\n",
        "from sklearn.metrics import mean_squared_error, r2_score\n",
        "model = linear_model.LinearRegression()\n",
        "model.fit(X_train, Y_train)"
      ],
      "metadata": {
        "colab": {
          "base_uri": "https://localhost:8080/"
        },
        "id": "podRmvuYGtqj",
        "outputId": "705183f5-807b-4b48-987c-c524e715f10b"
      },
      "execution_count": 41,
      "outputs": [
        {
          "output_type": "execute_result",
          "data": {
            "text/plain": [
              "LinearRegression()"
            ]
          },
          "metadata": {},
          "execution_count": 41
        }
      ]
    },
    {
      "cell_type": "code",
      "source": [
        "yintercept = '%.2f' % model.intercept_\n",
        "LogP = '%.2f LogP' % model.coef_[0]\n",
        "MW = '%.4f MW' % model.coef_[1]\n",
        "RB = '%.4f RB' % model.coef_[2]\n",
        "AP = '%.2f AP' % model.coef_[3]\n",
        "print('LogS = ' + \n",
        "      ' ' + \n",
        "      yintercept + \n",
        "      ' + ' + \n",
        "      LogP + \n",
        "      ' +' + \n",
        "      MW + \n",
        "      ' + ' + \n",
        "      RB + \n",
        "      ' + ' + \n",
        "      AP)"
      ],
      "metadata": {
        "colab": {
          "base_uri": "https://localhost:8080/"
        },
        "id": "GaI6VbT7Gtnj",
        "outputId": "06383b75-38ab-4206-cd16-48f3bf402038"
      },
      "execution_count": 44,
      "outputs": [
        {
          "output_type": "stream",
          "name": "stdout",
          "text": [
            "LogS =  0.22 + -0.75 LogP +-0.0064 MW + 0.0047 RB + -0.40 AP\n"
          ]
        }
      ]
    },
    {
      "cell_type": "markdown",
      "source": [
        "__Full data set__"
      ],
      "metadata": {
        "id": "MaKBCT7_M4Ko"
      }
    },
    {
      "cell_type": "code",
      "source": [
        "# Usando nuestro dataset: x e Y, le llamaremos full\n",
        "full = linear_model.LinearRegression()\n",
        "full.fit(X, Y)"
      ],
      "metadata": {
        "colab": {
          "base_uri": "https://localhost:8080/"
        },
        "id": "g0z4wEJoGtk8",
        "outputId": "0326b26d-6536-42cc-d9cc-2fc577247090"
      },
      "execution_count": 48,
      "outputs": [
        {
          "output_type": "execute_result",
          "data": {
            "text/plain": [
              "LinearRegression()"
            ]
          },
          "metadata": {},
          "execution_count": 48
        }
      ]
    },
    {
      "cell_type": "code",
      "source": [
        "full_pred = model.predict(X)\n",
        "print('Coefficients:', full.coef_)\n",
        "print('Intercept:', full.intercept_)\n",
        "print('Mean squared error (MSE): %.2f'\n",
        "      % mean_squared_error(Y, full_pred))\n",
        "print('Coefficient of determination (R^2): %.2f'\n",
        "      % r2_score(Y, full_pred))"
      ],
      "metadata": {
        "colab": {
          "base_uri": "https://localhost:8080/"
        },
        "id": "GPeYsfUYMPYu",
        "outputId": "991e5efd-66a9-42bc-ac0b-b930d7cced8d"
      },
      "execution_count": 49,
      "outputs": [
        {
          "output_type": "stream",
          "name": "stdout",
          "text": [
            "Coefficients: [-0.74173609 -0.00659927  0.00320051 -0.42316387]\n",
            "Intercept: 0.2565006830997185\n",
            "Mean squared error (MSE): 1.01\n",
            "Coefficient of determination (R^2): 0.77\n"
          ]
        }
      ]
    },
    {
      "cell_type": "code",
      "source": [
        "full_yintercept = '%.2f' % full.intercept_\n",
        "full_LogP = '%.2f LogP' % full.coef_[0]\n",
        "full_MW = '%.4f MW' % full.coef_[1]\n",
        "full_RB = '+ %.4f RB' % full.coef_[2]\n",
        "full_AP = '%.2f AP' % full.coef_[3]\n",
        "print('LogS = ' + \n",
        "      ' ' + \n",
        "      full_yintercept + \n",
        "      ' ' + \n",
        "      full_LogP + \n",
        "      ' ' + \n",
        "      full_MW + \n",
        "      ' ' + \n",
        "      full_RB + \n",
        "      ' ' + \n",
        "      full_AP)"
      ],
      "metadata": {
        "colab": {
          "base_uri": "https://localhost:8080/"
        },
        "id": "EPtk5UZHMPWY",
        "outputId": "76fe2eb9-87ac-4e9f-898b-91d0da6b2cf8"
      },
      "execution_count": 50,
      "outputs": [
        {
          "output_type": "stream",
          "name": "stdout",
          "text": [
            "LogS =  0.26 -0.74 LogP -0.0066 MW + 0.0032 RB -0.42 AP\n"
          ]
        }
      ]
    },
    {
      "cell_type": "markdown",
      "source": [
        "# __Predicción vs Experimental__"
      ],
      "metadata": {
        "id": "3kw6CM6aN5Je"
      }
    },
    {
      "cell_type": "code",
      "source": [
        "import matplotlib.pyplot as plt\n",
        "plt.figure(figsize=(11,5))\n",
        "\n",
        "# 1 row, 2 column, plot 1\n",
        "plt.subplot(1, 2, 1)\n",
        "plt.scatter(x=Y_train, y=Y_pred_train, c=\"#7CAE00\", alpha=0.3)\n",
        "\n",
        "z = np.polyfit(Y_train, Y_pred_train, 1)\n",
        "p = np.poly1d(z)\n",
        "plt.plot(Y_test,p(Y_test),\"#F8766D\")\n",
        "\n",
        "plt.ylabel('Predicted LogS')\n",
        "plt.xlabel('Experimental LogS')\n",
        "\n",
        "# 1 row, 2 column, plot 2\n",
        "plt.subplot(1, 2, 2)\n",
        "plt.scatter(x=Y_test, y=Y_pred_test, c=\"#619CFF\", alpha=0.3)\n",
        "\n",
        "z = np.polyfit(Y_test, Y_pred_test, 1)\n",
        "p = np.poly1d(z)\n",
        "plt.plot(Y_test,p(Y_test),\"#F8766D\")\n",
        "\n",
        "plt.xlabel('Experimental LogS')\n",
        "\n",
        "#Guardando la gráfica\n",
        "#plt.savefig('plot_horizontal_logS.png')\n",
        "#plt.savefig('plot_horizontal_logS.pdf')\n",
        "plt.show()"
      ],
      "metadata": {
        "colab": {
          "base_uri": "https://localhost:8080/",
          "height": 334
        },
        "id": "PHT2jWvLMPTn",
        "outputId": "d9605b9f-6979-4297-b69b-22f3b09ccdcf"
      },
      "execution_count": 53,
      "outputs": [
        {
          "output_type": "display_data",
          "data": {
            "text/plain": [
              "<Figure size 792x360 with 2 Axes>"
            ],
            "image/png": "[encoded data removed]"
          },
          "metadata": {
            "needs_background": "light"
          }
        }
      ]
    },
    {
      "cell_type": "markdown",
      "source": [
        "Delaney:\n",
        "__LogS = 0.16 - 0.63 cLogP - 0.0062 MW + 0.066 RB - 0.74 AP__\n",
        "\n",
        "Pat Walters:\n",
        "__LogS = 0.26 - 0.74 LogP - 0.0066 MW + 0.0034 RB - 0.42 AP__\n",
        "\n",
        "TutoBas Train set:\n",
        "__LogS =  0.26 - 0.73 LogP - 0.0069 MW 0.0163 RB - 0.36 AP__\n",
        "\n",
        "Full dataset\n",
        "__LogS =  0.26 - 0.74 LogP - 0.0066 MW + 0.0032 RB - 0.42 AP__"
      ],
      "metadata": {
        "id": "ECuja8TsMQtF"
      }
    }
  ]
}